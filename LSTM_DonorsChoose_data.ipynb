{
  "cells": [
    {
      "cell_type": "markdown",
      "metadata": {
        "id": "NFEUz-x2umuM"
      },
      "source": [
        "# <font color='red'> LSTM on Donorschoose dataset </font>"
      ]
    },
    {
      "cell_type": "markdown",
      "metadata": {
        "id": "-znKg3nZumuM"
      },
      "source": [
        "<img src='https://i.imgur.com/fkQ8nGo.png'>\n"
      ]
    },
    {
      "cell_type": "code",
      "source": [
        "from google.colab import drive\n",
        "drive.mount('/content/drive')"
      ],
      "metadata": {
        "colab": {
          "base_uri": "https://localhost:8080/"
        },
        "outputId": "a0763c52-c169-4339-b4c6-3c2369e3a588",
        "id": "ZxBRwB9pkReE"
      },
      "execution_count": null,
      "outputs": [
        {
          "output_type": "stream",
          "name": "stdout",
          "text": [
            "Mounted at /content/drive\n"
          ]
        }
      ]
    },
    {
      "cell_type": "code",
      "execution_count": null,
      "metadata": {
        "id": "lNDClhaNjjf9"
      },
      "outputs": [],
      "source": [
        "# import all the libraries\n",
        "import tensorflow as tf\n",
        "from tensorflow.keras.layers import Input,Dense,LSTM\n",
        "import keras\n",
        "from tensorflow.keras.layers import Input, Dense, Embedding, LSTM, concatenate, Flatten, Dropout\n",
        "from keras.utils import np_utils \n",
        "from keras.datasets import mnist \n",
        "from keras.models import Model\n",
        "from tensorflow.keras.optimizers import Adam\n",
        "\n",
        "from sklearn.model_selection import train_test_split\n",
        "from keras.preprocessing.text import text_to_word_sequence, Tokenizer, one_hot\n",
        "from keras.preprocessing.sequence import pad_sequences\n",
        "import numpy as np \n",
        "import pandas as pd\n",
        "from sklearn.metrics import roc_auc_score\n",
        "from sklearn.datasets import make_classification\n",
        "from keras.models import Sequential\n",
        "from keras.layers import Dense\n",
        "from keras.utils import np_utils\n",
        "from keras.callbacks import Callback, EarlyStopping\n",
        "from sklearn.datasets import make_multilabel_classification\n",
        "from sklearn.multioutput import MultiOutputClassifier"
      ]
    },
    {
      "cell_type": "code",
      "execution_count": null,
      "metadata": {
        "id": "kfL9SftzkReF"
      },
      "outputs": [],
      "source": [
        "# reading preprocessed data\n",
        "df = pd.read_csv('/content/drive/MyDrive/Colab Notebooks/preprocessed_data.csv')"
      ]
    },
    {
      "cell_type": "markdown",
      "source": [
        "![image.png](data:image/png;base64,iVBORw0KGgoAAAANSUhEUgAABQEAAADWCAYAAABheURcAAAgAElEQVR4nO3dz2tbZ/7//VdvZtE/wP4m0Ia2stqF4AYjDIYwVuRSg+kuxHhhMjASamJKlnUqnHFv7o8/0ahxFt9FKE5i7IEJhtHIZFcMLmNVGQLm49FopUUrH1qa8nVG3ty77nwvzjnSkXTO0Q9bkS0/HxCIdX5dOj+v89b1vq63jo+PjwUAAAAAAABgIBWLRf1f/S4EAAAAAAAAgN4iCAgAAAAAAAAMOIKAAAAAAAAAwIAjCAgAAAAAAAAMOIKAAAAAAAAAwIAjCAgAAAAAAAAMOIKAAAAAAAAAwIAjCAgAAAAAAAAMOIKAAAAAAAAAwIAjCAgAAAAAAAAMOIKAAAAAAAAAwIAjCAgAAAAAAAAMuAscBKwoEw8oEM+octrrDJj/4tnTWzMs+ykFAgGl9vtdkFNgfRfzX0qF6oRenJtvViEdUCAQV+aw3yXpkUE6Dy8o8xx1XnfnzGFG8bP2nLHKZN7Tzur1/6burwWlArX6wGDfK6zvmu7z1WSff/0ux1lxRvbHub/X9lAlG+/ZvdJct3UPOsf1ybPkvJzL5/7YX4g69vl/10MPvMG6/QUOAvbCsGbXDRlGVolTXW+3Few3VzHvZUVmIB1mFJ9dk25lZRiGDGNR4X6X6Yzi3HIxsBWkMxJMQBcKSl1NKhdNa88wZBjrmr3c7zL1U1iLhiHjZVrRfhellYG9n5wE96J67I/zZnhmXYZhKHur3yU5Cc67bgzGse8FzifA9rt+FwC4kF6VlZOU+MQt9GcGk2ffdJlOUThpyEj2uxQA3pjDssqSop9OarjfZfF1/u+v8HB5VusGR7bqjOwP6gMYFJzLOD3UReDiDT63B6QlYH0abtMv2nVpl41NLMt6GndLX6pP5alrruu7vi41rNPcnv29ZrQmSU9mGsrZUMZqWVotZzdpP4W0Lavc43dzknJKXrXWaf/KUpce5vz1pfmYNf4y41vG71Luy3keG3Nfpfad623dpL+QDigQTynlKGv13NpPWetwHAdHWbrZx55N+O39WP3M3maXaQn7KQUCcaXScZf96LevGo9bbft1ZXf5zr77w+24tTq3fDVfG+Y2zfLHsxVHee2ytDgnnefy7JrL/uzmnuC1Pz2ubbsM1vbXZpvPFe/97PL9quez9/2uko2bfzu+v/P4OO+13bfabH3P8tzHjffOxu173oNM2+nGfeF3XHz2RzvfL51xrNcqZ2PTf8d+LaQDiqdT1nZSSqVdtld+Wvt+bT2nursXVr+713O2C373V//97HF8WpyTvilSXvvL5/i4Ldc6tcctBajN1gm+923vc9azjtTyftLuOq3rtiX7Okg57jf191/3e7Nans+e923fe7Pb92t1L2pR3+zIIOwPH55dnnS/H5vrGQ11E5996T6txb3GY381p4U2XNd+zx3HOs36zQl1Vf/opC5nTbO+UyqbcX/mtOBeN+n+Pcbvezd/B/sY+NzT/Or0HZ3LzumN3++Us1pa1G/cdXHs/eowrXg9I1s9WyXvd71O684nei/2qzt3V1f0T9fu4/nUTz7nctN52dY0//eouvvkaWZD2PfJdMrlGLf/Dtp8H2917+r0GSDpeAD85++x4w8+iB3/7f+4TPyf+8cffPDB8f3/aVrq+G+xDxzT/nV8/4MPjj/4879q02J/O/7PccO0//O349gHHxzH/v4fn/Wb81fnacm57W6mW9+oaT+4L2fOd//Y/vRff/6g7u9uuB+Dhv3QuO+cGvajZ5ms+exjU7dda/3VY1G3TqsssZj5t19ZnN/gz+Y5Ys9XV67/uX/8wQex41jM/NtZFs99bG33g4Z/jeX415+d599x0/5rXH/HGvZju/uq/rg0Xic1jeeD7znneY26r6sddfuv7rywyxw7vv/3/xz7XlvOctnHzZ7PZZr7eefHe/81zdm4Dzy24bef66c5r02f+51j27E/m9Nr62zcd9Z6Wtyn/Hkcj7b3ccN38bnO66/t+uXqr7/6ad77w4/P88bnmdK4r6vXvmO56rad6+nBvbBxn9fOSeu7NP5r4zzwu7/67Wfv49PeOdl0f/V7rvs+89t4Njcei2Ov67mNe5zPfdvv3tzyHupxPXnvZ/t8rr+ftD7mjdeByzrd7s1t1btcyuF7HbS6//rVnzp7Hg3y/mjrW7rUV05nP7rU2/32pcd39bzX+O3nxn1et2996r7Wcva0E++HNuobbvVJv2dcw9JN5127dbemMrRRZ233Pcb3XG6Y5vyuvnVYnzp9ffnqv4ffvjyN9ytPbTy7T+3Y+74z+/GZr43ry/0d5QR15y7ei73rzu09d/3qip0en56eT33lc8/0O8/brb8eO8+F5vPH9Z27W35187beQd1iSD7nfJfvoP/+97+PByIdePj9oKQ1Ja8GlIymtbc+W01HKny3JkXT+mzMY2G3aYe72s5J0Qd2WlNY07ektSfb+kewrJyiSv/e2sLYtBJa09p3BS2Oddur2xUFozJ/mXgiJTKGFr3K26CSjTf8ktiq96GKdr81W1bNBNr77b5r+9vmLy53xxW4W/u4WsL9VHOLKklSQdtPpOiDzzz7yUt8bh7jut+w/7mtnKTcbMCzVUJO0/p6TJI6aW6b0J0Z83hfCUYllVU+lFW2nPTp1+b/Z9ZlzEhSRRmvfWw387W+eyfHWpdntZ4pKzA7rnFFlX558n4E7f2od4OKSir/VJGs8jTvq4JSAUm3pq3tDmvy06h0d1u7h7M+/X/5n3Mtr9FeyAU1vT4saViLhqFF+3OPc9I8t6JK/7F5j7dz3rmy7jOJzKxr+uQbu7Z97neFZFhXJEk5BT9Z17CkYUc6zJUHUa3dNecL7z9VMhdVOnX6vVv67+OKMvFxJV12lblcQtkZrwRV+9p23knM+4+U1HjAkfdTt/vd90dL3Zzn1vW2LSn4/rD0k6QfytUSV++Tl4MKSlor/6KKTv9eWPhuTVJC01b5h38/raiS2v7n11o3DC0eZhS/mpQe7Gndc3+7cb+/ep93BaU8j09YnznPSfsa+9z/nKxe327P9T/6Ldnds3t45o4Sd2e0/c+KZmekzDdm/7Dt9qHYfN/+h3nOet2bfepI3nyug+o9w/sZ7at6HQwr+JGkJ2X9oklzmsu9uZJ91FW9y/e+0eL+68Wvvtm1c7w/utX9fiwo5dfy1G9fuk7zvtdUsnHv/Zz8TOnompLWPrefNXfG5Fv3te+jdzq6R/rsja7qT62ecf77uPPr3r9O33ldp9t6V8H/PinJvU7fxjo99qX5TFsz62S3sjKSp1c/al2/6by87V9f7er+/VbyeEd594zUnVucT+Zdp9O6Yv/Op77yixfYddu74wrcjSr90tHftN80eZ0Lw5r9PKHkrH3dZ/Toyek/+9zq5vbTxvMd1IvP87nrd1ANSp+AY4syjEXrBd66cG5lZSSvqPxDvwvXDrtfAOtldjagNTWfzE32Uxq/m6veVM2Tvc1NnlbltQ2uN31rYIyo/cLoDL5YfUt1p8V++yh46t85+L7HGnuwjys/2Xsmp/IrSb3seP+095Xr/qgo04NrNPxJQnrieIjeymrdeQ5Gg/atuMbvnGypjeu1kdUvZNBtWi+ubStoU63kRNPamxmW2koliCr4bvOn1WDG/qL0XWeBjM657+NCelzJXEJZY1Fh+x5qTful7LmHW/OoYFWssrjtj7Plzd8LT5/PfvaqADvOySs/bSsXTVvBzl7o8tltBSvHv91V5ffSdo+C51WedaQ2tuk232GmN+WU3O/NJ1uh+/HY97n/+jnJvuzGWd8f3epqP1aUic9orfqMaxGw6Ein9/Tai2QheUXlb3OKPvi6LsjlVvctpE+hqFWVk73juO7vHuxjvzr9Seo6nvfaSU1HZd2P7fnM79IOzzq9H8/nkRlINL+XGQiLdvxDmbvTr9/04vryeUZ2u8qzUnfWL+2stLu6Yh/Op7PAPUhsB8rM8zF5NaCk7Dp/2Hua37kw9pnS0XFt/7OiSfW6nuii0+e63zlvrrDzd1ANTJ+AlrHFhpF5rah8LqmnneR5W1Hb3Le71f7X7Gj/x+8HJeW0/U+7DwMzeu0+wEOnzJvl3oP2xhI0A0L2Daagp231LWL9AtrpPumG9cvN2jcufYbYJ/T7ZiuczDeOx8xl8wGeu/u0o/7uhq1jk/xLr0Z9svZxdFqTvhdaj/ax44a29yCqtdku+wN0UfhLUjlFNf17vweJ/YvedrWPkN1vT7o/urxGfZnnU/TBnjXystHeC5rPOWmfW+VX8pzW8Xk3Nq2E3K+PXlzbhb8klauORm3IsCs7Pve71nvNajU4G9DMk9O6Dzbz3sfWS5D9QN1/WtciMPxJQtKaHnXUb6t9nj96M32tWPvf1HAv7EAl+6j6LOrFvdD+BXrb7rPPaj3nf8/oRLv311bHxzonv8to99tcWwOVDPs919s6Pp09uyWrJWUuqfGrSeVafmd3tfv2/93evbmpjuTHZz/b94yy+RJkn3sdOzR/gW91r/E9Pm0s53od+Nx/29LRvmzTed4f3epoP/6ick7VHzB8zzu/fXla+9lqGbid3dV2znEv9Kn7Ols7t/9s9yxhl/Unv3toB/u4XT51+u7qOi3O5f2n1g+DVl2nOlJ9t3VYP+3VF4Zn1k99pPjTr9/04NhXuTwjO6j71L2jnJW684CdT33lFy+oMgN+7iNeN0/zPxfMe2fu7rjG77ZXT+yWs27eNZ9z/kT1/RPlPZ8RZp63sz8it75HGvtf8+8Hq5bT3dy/UeP6annX7n0jte4vo3m5xvz2+m3a/Rs4l4sd/+3vzf0KuS9X64upk/6bOvoOXvuxWoZa/xIffPDB8f2/N/abVD+9upxnv1TWYnY/Ek3nQnf92TTtJ2c+fou8e9997NcHk1vfWvb3qq7D3t9d9iXTtJ/a6IOlbrsu+8PBrS8Vv/3hfo16bLOdY9j0/byu+7pS+56TzvLH/v634/sufTB43YO8NV77Deer57XdcH009m3R1rXYyf3O5zyzlz2l/jS87lme+9j5eexvx39r7NujcTnru/n3b9l4/zlpH07t9LvYfG7968/2PP+qfvafv8fM9bgcz7r7ySnfC2v7zO2ecdxR3yzu66s/bv772fv4OMvi2v+OxzXg/Vz3Pj6+z27X/l/d74nt9Kl1fHzc3n3bc1/63Z+87ic++9ntuuugT8Dme41/P09+x6fG5dz2vTd73X/dtuns77ebe/1g7g/fb9e0rz5o6C+r8/1Yt9yf/+bo87ONfdnFM67Vfq5O9+izrnl/udUzTtY3olf9ye9+1/oZ57KP2+6L0rWU7nX6E7zHeJ/LLsfbtW71Qdt1er9z2W9f+r5DnAbf+s0pHvtW78ye/N9vPZ+tvs86t/W2W3fu4r3Yr+7c8rnrfm13e3x6fj71k9c906+u61sPbnUu2NNPuY9F3zK10QdnW9+nodxdvIP++9//Ph6IICDQKwPbCWtHlbfOnW7n6Z1q7lR1YI9j25oHSDi1Y+Qy8AHQjot+XXbcGXWP79u9136H7t3pPsDdH+yP09PGD3yD9MIMT02Dd3TxAxVg6mHdGX3W6SCubTon95t///vfx4OVDgygTyrKpGtDoJud7AYV7GWfhV6a+p85Yb85A8FK83B+0vhBlwp/SSr3pgd2Ac47KyWx2vE5urOfUspO4bLSNaPB0+1F71xhf+CCa6rbWF29AJ3rXd0Z/WWm6Z7eIE3n0WAMDHLm+XWu2l1njjgl1oiW7rf0hFKufQ+g2bBm/yjFAwFrX57O6MVeCmmzDzo30Qd7+vpBVON1o0zZnci+QS3OrTdbnrAWMwmtzZodCZtOeO+pDpxid7p9sbU6J898x809OF+bR2ZzuJVVtsP1DQbHaNaNAxa1OgY9HI/jtPhfB99q+rQ3OLao6XRAAbuX+VvZs3+t9dKb3B99uGcMzGiYA+VsveOEk1klnszUjfR6Lp7B59LZOvanrwd1Z/SX47mVyKy/2ffCM+at4+Pj434XAgAAAAAAAEBvFIvFARsdGAAAAAAAAEATgoAAAAAAAADAgCMICAAAAAAAAAw4goAAAAAAAADAgCMICAAAAAAAAAw4goAAAAAAAADAgPtdL1f+448/9nL1AAAAAAAAAHx8+OGHknocBLxy5UovVw8AAAAAAACgDaQDAwAAAAAAAAOOICAAAAAAAAAw4AgCAgAAAAAAAAOOICAAAAAAAAAw4AgCAgAAAAAAAAOOICAAAAAAAAAw4AgCAgAAAAAAAAOOICAAAAAAAABcFR+GFHpYdJ129HxeoVBIodCK3OfAWUIQEAAAAAAAAB0qauNeXrFnJZVKCxrtYMmj5/MK3d7SUQ/LthIKaaXQsw2cS7/rdwEAAAAAAABwNo1+UVLJc2pEgXfeYGFwIrQEBAAAAAAAgCv3dOCiVkJz2lBeS5MhzT8/qs0bsv5VlznS1u2QVh6umJ8vLChyLy+9WFLk9paOXm9pPjSvrdfOdVut+KxpKw/nXdZrT2/c5pG2bs9pQ9LGzVprwFrqcqjHrRDPLoKAAAAAAAAA6MCoFkqbikmKPStp9fqQjp7Pa+7HZeVLJZVKm4qtz1WDg5K08WPAnLayovz9iDSxrPzjGxpqua28NjSvUqmk0u6yIutzVmDvSFtfLWnkWckxbVVbr4d043GtbAthSYUVRe6NaLNkzrv54ZIiHv0cDjKCgAAAAAAAADiBI32/nVdk+poV1BtV7H5E+e3vqy3uatM6FdHyH6weBy+NaKT6+ZBuPLaCfJL0q6G8xxqK/9hQ5H6s2m/h6B+WFVnfuXCDmdAnIAAAAAAAAE7glYwX0sjt7sJ83So+DGlu3fpjIqKI61xHOvhRyq9HFLrn/DyiqdfS6KVel/LsIAgIAAAAAACAE3hXgQlp5+cjKfyGAoGvt7S6HtHy7qpuXDL/np/ccZlxSCMfSpHpvFavv9kg5VlDOjAAAAAAAABOYEjXpp3pv0Vt3Mu3lwJ8aUQjymvnpZU4XNjRRtvbzcv41fxf8a9LnunAox/HlL+3UU3/NQcJWblw6cAEAQEAAAAAAHAiQ9dXzQE3QiGFQnPaiG96trwbujqlyIslRUIrKtr9B96LmCP3/iOg5Yk2Nnjphubj5gjAoVBIOx9vKlYNCo5qypo2//xICi8of/9Ac9bowJF70vLuQrWPwIvirePj4+Nerfy3337r1aoBAAAAAAAAtPD222+rWCzSEhAAAAAAAAAYdAQBAQAAAAAAgAFHEBAAAAAAAAAYcAQBAQAAAAAAgAFHEBAAAAAAAAD9U1hRKLSiYr/LMeAIAgIAAAAAAAADjiAgAAAAAAAAMOAIAgIAAAAAAFxEr7c0HwopFAopFJrX1mvrcys9d+WhPS2k+edHbS9XrJuvcbq13MMVrYRCWinUVnvwfN59e1VH2rpdP634MKTQw2Lz+p3blXTkWHfo9pbc1j7oCAICAAAAAABcOEWtTC5p5FlJpVJJpWcjWpp09su3oYORvDUtpvy9P1lBtfrl8vfVsJzP9m5uKGYvN3KgjbrpG9rRf7tsr4Pvc/NAy7uO7/OVFewrrChyb0SbJXPa5odLijy8eD0QEgQEAAAAAAC4aAo72phYVixs/R2OaXliQzvVlnkxzV8fMv/7TkAR53KKacpabuj6vGJyLuezvablnDy215G8lv5qBffCCyo9vqEhScV/bChyP6ZRa67RPywrsr5z4QYi+V2/CwAAAAAAAIA36+jnA+nFhiKhpbrPI9NH0nstlpuY0rvdbK+L5do3qoXSphSaU2jd+ii+qdIX7+rgRym/HlHonnP+iKZeS6OXelagM4cgIAAAAAAAwAUz9N6INDGlvNVaro5Pq76h90akF4ZeSc3LtdpeF8t1ZlQLpZIWJLM/wsk5rXxc0tSHUmQ6r9XrvdvyeUA6MAAAAAAAONNqgz80DwzRnm6XszQOeDEIwlOKvVjShh3wswb7WGmV1hueqkv/PXq+WkvzfSegiHPayx3lfZfr1JBGPpTy299bA3sUtWO3+mschOTSiEYUUeAdafTjmPL3NqrHzxwkZMCOZxtoCQgAAAAAAHDhjGphd1nzkyGFrE8i9/NaCMu3JWDzchEt7y6Y/e1duqH5+JLmboa0ISlyf1kx7dSWexZTqG5a3n0Tflv/w7Iik0tWGnNMy/cj0oG57dVnhkKTIdkJzpH7eS1cknRpQfn784qEqt+0VuYL5K3j4+PjXq38t99+69WqAQAAAADABVF8GNKcNlX6otuwzZG2bke0Q0roGVLUSmhVgd1V3bhA/fL1w9tvv61isUg6MAAAAAAAOF3FhyGFQva/Woqmmda7pa3b9rRaSqbftJrGtN6iVkK1bdWlslrpraFQSKHbGzK8ynd7S0de0x5aJWhIBzbTSZuXN7/DiqNMjvRUn+Xqylq3zJFjfzjKcx693tJ83T5c1YZGNEIA8I0hCAgAAAAAAE5PYUVzPy4rXyqpVCppM57X0l8dwav1JRm37WkbmnMGw/ymNTnS1u05HdzPq1QqqbS7rIObdgDtSFtfLUn2tNvSxguP8n24pD9ZQcWj5/OOaXkt/zjX3I9gYUWReyPadCwfcQbn1g8U2HV896+s7+C5XFErk0saeWZ+Xno2oqVJM1h29PxPWvpw0/zcKk/LPvvOqks3NB/f0JwV0Izc04VMye0ngoAAAAAAAOD0hBdUqo44e6SDHxumTywrFjb/O/qHZUVe7Oj7121Ma/T6e+28iGneTu+9dEPz8bx2Xh5Z0yKaumpNC8e0POFY1jEgxugXJStF+Ejfb+cVmb5mlX1INx6XmtKHi//YUOR+rBq8Gv3DsiLrO7VWi/H5anrruyORuuUUn6ot90XJTG8u7GjD8b3NstYG0ND6qhXYNMuzENa5NfqFFegslVQqkQb8pjEwCAAAAAAAOD2vtzQ/uWQN+RBRZKJh+ocjqobVLo1opDpwRItpjX41lNeG8qGGMWbjr6T3DOU1ovlqkMkcVXZHMoOUz1QdoEKSYs9KWgi/kvFCGrnt12egGdTMr0cUuuf8PKKp19JIi+Ui0+82T/n5QHqxYQ104Vjj9JGGrq8qr3lFqoNdRLRMH3roEkFAAAAAAABwaop/XVI+XhvEo/gwVD8G7I8HOtKoGex7faADSYF2pjV6J6CIYpovuaSUvj5QRDs6eC2NXpKqLRLtKF14QaXSgiQzBThyc0VTpZgCE9LOz0dS2CsQaAYTIx4DjHj32Gcut3TwSlL9ckPvjUgTU8pXW082LHl9VaXr1vofhjT31ZauecwL+OlfOnBdp5dunX0CwPl39Hy+qaPhM6ehk+O21d3Hz3knxQAgqanz9bp72wB1zI7+Kqyc/bpBn5gDKryBa+v1luYbBmtAD/x4YJ7nr7e0ut4wzZHiW/zrkvITU7p2qY1pjS5d09TEhlYbBgmZf35kTXP0Rfj6e+1YfQI21tHNIFxA72pI16Yjym9/3zDQR/15OfpxTPl7Gw2DhLSuT49+HJMcacPVcoSnFHOkJ9v17JVC8/bfHYnUt5Y8KworrgOhNHpj13m1TL2IN9UPRhNqjG35vic1L9vU56StbmCb+udG3QAzHcTV+tQS0Oz00vxl4F1t3Y5o7nbAM+oNADhrap0Xr4atv0Nzmh9x/0UUAM6HVzJeuKdZFR9GzI7ZH4+Kex66VlhR6OaGNLHc75KcEea1pGfnu48zNBv9w7Iik0tmeuvEsjbvR5TfNlv4SZLiIzImQwpJkmLaLJmxgFetpjUZ0o3HmzJCjtTc+KZK1r3ZnDan0Lq5rlhcOpDZsm7zIORIv41oeXfBjEc0TptYVv6x2W9fVXhB+fvzioRCdcubTwgfTcvVvt/C7rLmq99bitzPm9dFOK/l2xFVF1FMm6WzNpTGkbYebyhy/808F4sPQ5pTraXpmzeqhVJJC9W/j7R1O6Kd6ZhGW70nvT7QgWLadGu9WscxsM11aet2RH96fq26f18d5Lva3/0JAhZ2tCEp9rH5la9NR6R7O/r+9Q3y2gHgXDAffM6/p+LShkt6AwCcG68PdKARTbnUR0e/KKl21+Oeh84VH4Y0tx5RLB7RRuMgCXizLt3QaulGv0sx2Jr28Y1qOqsZzJvSQmnBEURxcp/mvA/feFxSbe2NAZm6pRqm1f5nDsrhXnzXaeEFOau/zhRdr3K6zee1nPd5OdTwfc+ukfdaPxMb988gOHr+Jy1pWfnrQ5KG/N+TfjWUnwjov1ut1B7Y5r+sgPbtmJYef6+j6zc0ZKW2j3zceR2kL+nARz8fSIoo8I7599B7I5LyMn7tR2kGW/GhexPUus9pCv8GmalE88+3ak2Ab2/pyK2Zb2FFodsrWrltHyPSkHqq7hiY+33++ZH1+YpWrGtmpSA1p4s5m147p81r46B+M17XZK35fPvXpNmUfsuxvVo5ig9Dmn+4Yn4n+5yqa5butQ2r/KQpAbiIrIp5c5ftjYraWa/9oA205eNNlUqrinmPGnCuuNdDnGlujvqRa2rckbZuz2lD0sZNu44lSQd1dam23lMa1l9bV+M0a32N6cBedSRrvpWH8x518Pq0Pud2Pet8wMAxW8EtvTCvZft894o51NKBzfeOlYfWe9D/+7817/JeVXc9y0yDnVuXtD5Xu7bq3qW802vrUmhP7X2nqI17ecVut5fZevTzQXvp3L+aA9uMOH+YfGFYQXQzc8GOqXWiL0HAVwd5188PfuaV8zQdPZ/X3I/LypdKKpXyWv5xzrwYCiuOz0vajDv6ScAbkb9naKpUUqm0qdiLJUW+kv67VFJpd1kRZ18QLzak2+bQ6dde/slMQ3Icz8YbIrrlaGpdKql0W9p44Zy+oYMRc9pC2Pqlx3ksHP2QVH8FKpVUKs1L67X7nec1qaJWbh5oede8JkvPRrT0VZsPpfUlGbfta3lDc46HWX5dmi+VVHp8Q0OOZunVbUw29hthN+1GrC4AACAASURBVGPPW8t0wOrrhRdiAOeZOTrjkiI+/euYLzVz2phYVoz0RXRgNDyAz8j1Hem/avWhudBOrY4ru35k1rOqdZDdZUXWV7X12kzjjMkelbVxndZ7Sss6UfP6D27a12479Z9W8+S1oXlH2eccPwrP6cCuP+4u6+CmGejwrvMBg2hINx7ntTxhpjCXvhjtKOaw8WPAnO//uampiQ3tVPtF/F47L2KaanjWDl1f1WZcZtr3F1YXHXXvUvX9NVYVVhS5N6JNu0wfLilyCgH6o+er/nWChvekVwd5M4DZTjDS+cPkOwFFqus80IHyWpr0+PHDR/8GBkGPHen77bwi09esF3mzCfHq9SGzGXP1Bd8aIQlvVOR+zMr/f1eBCdWO06WRhiHlG25666vWLyjm8aTvlFNiN7W+aoW9wjEtTzhncEyT1YS/2v/EKxnVgGHjdTeq2P1I3bTaL0RDunE75uh02PFgrLtGW3A8cEb/sKyIoyNlxadq/UwUduofTuGYlp0PWR1o1QoAdt6PR62fV85JAOfZq4O82fdTyf3HFclKY7JfHmg1jYsuPm9152SOelqre5h1XFNDvfVXQ+5NQhrXaQ2A0KaNx9b1eOmGVu2+tgo72nDWp63RYOvCsS3rSBEt/8FawllXb6w/Xrqh1dKqblxqVeeDmWrrHhT3m4ZzpIOYgzNmcW06oo1/mO9ERy93lHe+z3ga1UKp1pevmXnarPiPDcd7uPXu5BikpTuN739NW214T7L2RdzRoERdBCN/NZRXpC7wuXGzvZbTfekT0Otm3k7+ONplBiZGbrvs09dbmp9csh6+EUUmmmfB2TN0fVV5zSsyGZLZRa17x+XogtXUer7dfWl36i2p/hpqvu7M7g5q0zZehLQhp5he6YYWSptStdNiOX7ZasHZlPzSiEa04zqb2bplw9H5sVX66SPpPUnKS4qYv5pdb9VJrZPZ0e1Gu+UFgDOssZ8is2N7936r/aYBqGf2h2j9MRFR+6G9dpitkHQ70jCQww3p5wNpYso3xd+3juSXaudZf/Sr89GLKC6ILmMOQ1enFLm3o+IXo9JBXrGPV9tYqpaOLEmRCbc7jBl8y687BpCxyjb1Whrt+jlupuXa/fbVc3tPauzf0fyRYOmm+Z2b3qas9N8hqfoDyrzU1D+l+eNFRDsvj3SjRYOOvgQBzZfiDbMPwEvNfQTiNJi/vu38fCSF60+C4l/tkZnNU6z4MOT/axzODGcnssWHIc19taVrjKp9cu8EFNGODtp6ADSOfGWl0Epyu+7M+1ugOi1226sFp6PT4tdbmp+c08rHbbT2/NEcZW1IspqFm1trNPTeiDQx5T4Ke0GSYpp/vKD5hyHNPZxqM6BnPtgO7uerI7ABwOBp6I/H1ukPSMBF9XpLq+uOH69fb2l+0v1Hy+45X6zN+smfnl/T6nsj9S/Rbkv61ZH8WtV41h9b1fmAwdd1zOHSNU1NLGmnMCWtxzTlMXBLncKGll44RtstrCj0onEms7VypKusJ79t72hDI9psqgt0+J7k1h/xOwFFZLSez6GdhnX9SQcOTykmWc08zeaTmpjSNSpRp8hsSutsdl7rgFNW4EDV/HScfXXHT1aL2nY6FEVrl65paiKvnZfW1VLYqP6S5CV/8MplXuu6q/ZBYd3fHNOqqSqyjml1YBhH8+1LIxpp94cRR/pv8a9LynvdS8NTijn7m7Q6wG7sO2L0i03F1tvpb9LqzDu+eboPUgDoG3vwrqPa318tVVOR6p/D5g9CaitNCYBzEMjiX5dOuQGCOThHre5iBuFG3huy3judfYxZda6KY/E260hNGuuP1XL41PlO/mX7q7HO2tN1Nt6T2+VYrmHdtUEhmvt7PZFe7JdB0FXMwbp+bs5po62BumwHOngtVZ/PLkY/ru8r0DwfTnYuHP184FIX8HtParxfFbVyc8M9nfjSNU1NOPpWfVyb7+j5fN095ej5n7Tk0n+im760BJRGtbC7rINJO/Utps0SrZlO29D1VW0ehBqaxY9q6PWyIpNL5ucTy9q8H1F+29GaCGfS6Bd5Ld+OKBSyP4lps8Srx+kY0o3/WtbOpNU8PL6s5Ql5JNbaTbat+1d80+wzyhry3b7u5kLmwycWj0lWHxhN16Tj3rf6zFComuptdqq70M4PI/ERGZMhhRrW96ppRvO+O1+d19pGWFZLwNp8sfsRRW6uaKqxzxyn199r54WkF44UZqmafsO9BMD5U0sprKYKTSwrb7ViaHoOO6YB8HHphubjS5q7aabHxp6ZPziaWWGjmopLczdDOrifN9PcOtZcx1F8U6Ww+7TYs5JuDG856nk+dSTfoI45sIkRqt0zIvfzWg1LCnvX+eDDaiU61ZMuj6wRXJ/RQvNNMLvMcI85tDJ0dUoR5SXPfvbMgJ5uzin047Lyj81U2KXJkJYU0fIzs5/0g9eq31p4Qfn784pUH+QRLe920g1SM3PQ24Y7V4v3pIXSpjmquP15fLPaWvDo+bwiB/NWC8qGd9SJZeWt+apdhVXvMe1/l7eOj4+Pu/y+Lf3222+9WjUA9JCZ4muc8TSO4sOQ5kRffAAAAHgDehGkc65TzvVbXe50nL7ptVxRK6FVBehT/RzgWPXC22+/rWKxyOjAAGA+aBxN+AsbWnpBP6UAAABAk5crVlptfXdFdqqjPa0updpKs3Zfzlp2ckl55bU06Uyt/d6xzg5TN6tputYADcprabKWYlx86FGeguP7Nab51n0Pa1pjOrDbPNX1rmjFsd26dGev5fz26yAq7GiD7uJ6hiAgAGhUsfvS0qT1cL25odiz/v/yVFcxafx3e0v/Xy833lhRa/g38JUPAABwZrSqE537vvbOlbyWDqZUKpVU2l1WpNqXtNkP2sH9fHXawU07kGX2sTryrORYbrWhDz0zLTsixyAykvL3DE2VSiqV8lqe2NBcU/CwHaNaKG0qJjMdfPX6kI6ez2vux2Xl7XX/OGcF5IpauXmg5V2rrM9GtPSVfY6Zgcrq93g2oqXJxsBkq3k2dDBi7aNnMeXv/cnaD17L+e3XwVN8GFLo5oGW/4v0+V7pU5+AAHC2OEdePitGvyip5Dsi1g2V/CafxKUbWi3daD0fAABAj7WuE+HNiWj5D1ZXNJdGNGJ//Pp77byIaf6xFbqx+oJcfXmkG9fN0ZurfjWUlzTVztbux6x+zszRXU+HOXhf7PaqFWiy+vx+/L2Oro9Iymvpr0Xd+GJUCi+o9NharLCjDcW0aXcXFF5QqSTp9VZt1YUdbUwsK1+dx+yvbqdg99cW07ydpvxOQBEdtFz3qs9+HTRc671HEBAAAAAAAHTvV0N5bSgfahiZNW4Onld8GNKcPUjCRESRN12+Oq9kvJA2XpiD1dTE9ErmwA0KOQZ1iJt9cB/9fCBNTPmOWHv084H0YsMxYIMpMn0kvddiObd1t9ivQKcIAgIAAAAAgO69E1BEMc2XXEYofb2l1XVHmq81GEj/vKvAhBTzHARwVAulkhYkq6xzWvm4pIX3RqQXhvzCb0PvjUgTU8o/dkln9elOZ8hr3X779aIrrCh0U9ps3Dc9HWX6/KNPQAAAAAAA0L1L1zQ1saHV6kAX5mAWtYEv8jJ+tab8dUn5fpSxakjXpiPaeFzrT7L40OpfsnGQj0sjGpE1YGB4SjFtaMcO5tnzVhyrDk8p9mJJG3XztNGftte61Wq/nl3Fh24DwLxhjccTtAQEAAAAAAAnMaQbjzdlhCIK3bM+im+qdH1IktmP3dxNM/029mxTsfU5Myj4jmMVl65pamJJS5MhGc/yCvSytNdXtXkQcqTtxrRZMlvvrT4zFJoMyZ4SuZ/XwiXJHrxkfjKkkL3Us5JuDG+p1q6xeZ7I/bzZ4tA3EOix7kuSPPcrXDn7Nif41+St4+Pj416t/LfffuvVqgEAAAAAANA3R9q6HdHSC+tPu//E5/OK3MvXfWam6dqtQB3p4VZa7/L9Ay1Zy8SelTT1j1o/krFnLqnbdenAVjm0rPx/SX+a3NHU7ryMyTmr30dre7+uKHTT7l+xfiTqQff222+rWCySDgwAAAAAAIDOHD3/k5Y+3FSpVFKplNfyj3NaKVgtLeOqBQBV1Mrkkkaelcx5n41oaXJFtWThDe3ov1UqlZS/H9HGzZB2Pjbn3YyrLnXbpRTauh3RznRepbq+GM3WlZFqsK+olZsHWt51lOErv/UOJtKBAQAAAADAOdDQ8qxRNeiEN2Z9VVt/WNWNS0O68bjkPk9hRxsTy8rbrfnCMS1PRLRTsAf1iGneSnEeem9E0oimrHnfHYlIP3pt/ECrtyPSdF6rbaVI57X016JufDEqhRdUetzmdxwgBAEBAAAAAMA5YAaabvS7GJBktvjLa16Rah+K7im2Rz8fSC82HH0wmiLTR9J7JylBXlJE+XsbKl5vNYLyqBZKm1JoTiErzfgiBo0JAgIAAAAAAKBjQ9dXVbpu/r/4MKS5r7Z07XF9mHbovRFpYkr5unRdS6uRk33FNP94QfMPQ5p7ONVGQG9UC6WSFiSrj8I5rXzs0t/gAKNPQAAAAAAAAHSk+DCk0MNaz37vjkSkD0eaA33hKcVeLGnDDvi93tJ8KKSVEwUAa0a/MEec9l3f6y3Nh+a1ZY8YfGlEI4oo8I7PMgOIloAAAAAAAADoyOgXeS3fjigUsj+JabNktsYb/Tgm3ZxT6Mdl5R/f0MLusuYnQ7JnjdzPmy3wTiUQOKrY/YgiN1c0tRuofXzpmqYmlrQ0GZLxrKTVZ4ZC1dRlqwwXZHRg21vHx8fHvVr5b7/91qtVAwAAAAAAAGjh7bffVrFYJB0YAAAAAAAAGHQEAQEAAAAAAIABRxAQAAAAAAAAGHAEAQEAAAAAAIABRxAQAAAAAAAAGHAEAQEAAAAAAHDOHWnrdkjzz4/6XZAziyAgAAAAAAAAMOAIAgIAAAAAAAADjiAgAAAAAAAAzpGiVkIhhax/K4V+l+d8IAgIAAAAAACAc+JIW7fndHA/r1KppNLusg5uzmvrdb/LdfYRBAQAAAAAAMD58Pp77byIaOrqkPn3pRtaLa3qxqX+Fus8IAgIAAAAAACA8+FXQ3mNaISgX8cIAgIAAAAAAOB8eCegiA50QPpvxwgCAgAAAAAA4Hy4dE1TE3ntvDyyPjAHCWFwkNYIAgIAAAAAAOCcGNKNx5sauRexRgc2BwlZCDvnOdLWbUdgsLCi0O0tHblNu0DeOj4+Pu7Vyn/77bderRoAAAAAAABAC2+//baKxSItAQEAAAAAAIBBRxAQAAAAAAAAGHAEAQEAAAAAAIABRxAQAAAAAAAAGHAEAQEAAAAAAIABRxAQAAAAAAAAGHAEAQEAAAAAAIABRxAQAAAAAAAAGHAEAQEAAAAAAIABRxAQAAAAAAAAGHC/6+XK33777V6uHgAAAAAAAEAbaAkIAAAAAAAADDiCgAAAAAAAAMCAIwgIAAAAAAAADDiCgAAAAAAAAMCAIwgIAAAAAAAADDiCgAAAAAAAAMCAIwgIAAAAAABwARXSAQXShTezsf2UAoGUTndrBaUCAQWsf6l9nznTtfne2Hc+YwgCAgAAAAAA4JypKBOfUfnBngzDkJFJaG02rsyhy5zZuGaeJJQ1DBmGoaxmFM9W3nyR+4wgIAAAAAAAwAUUThoykuE3s7GxRRnGok5va7+onJOC7w9b659WQjmVXzXOV9HutzlFH3xW3Xb4j2np211dtDAgQUAAAAAAAIALqJYOXFEmHlA8m6ml18YzqhxmFHf+bS+4n6ql1gYC9a3qnNPSKaXsNF1HOrC53ZQjlbe+BV8lG6+tw7ndOlcUjErln6yp+9taU0LTY21++VxZv3S0t84/goAAAAAAAABQ7m5Z04Yhw8gqkUtqfFH62jBkvEwrmkvq6b4kFZSaLSv90qim4ebuPrX6+isoNbumRMacthcsa81rY0/KClrryN7KKbloBfv2Uxq/G6yl7n6U1LhrH37Dml03dKc8bgYLvwlqz7Wl4bCCH8lRRqnwl6RyKqvskjo8yAgCAgAAAAAAwJEya7ayi346qWFJuhxUsDpXWIvGumYvm39VfirXVtDQGm945o4SXhu7dae6jivBaPXjwndrTam70SfbLgOKmIOCPApafQKmpC8D7n0ChpN7SkfXNGO1LtwOphVtnm3g/a7fBQAAAAAAAMB5UVEmPq5kzvwrGq2F0yo/laXotK6cYN3lH6Tck3EF7jo/j2r6UApfdnxkBRyzM1afgJdndedWUjN/KWi2qZ9Ds9XgbHXZlAIK6s5lXSgEAQEAAAAAANCe/adK5hLK2qm3+ykFrIDg8PvBal97w12t3EzdjX66p/WZ7tbQjpMHK88n0oEBAAAAAADQAbs/vYoy3zh6/RubVkJr2t43/6xkH3n3Cegh/Emirv8+c5CQVHM6sLWtR/agJIcZPXoiJT5p7hWwko1bA6CY8315N6fE57NdBirPL1oCAgAAAAAAoD1jnykdHVfyakBJRZXOpBXNbat8KIUvh7WYSSgwG9CapOiDtBLKdbj+Re09iGs8ELA+iCr90m3Aj7AWX6YVv1pLHU5kDC26jA48PPO10vFx2auMPthznW/QvXV8fHzc70IAAAAAAABg0BSUCjxS8GVtIBH0R7FYJB0YAAAAAAAAp+Awo7gjdddMBw4qSADwTCAdGAAAAAAAACd3eVZ3bgU0E7B7AvRK5UU/kA4MAAAAAAAADDDSgQEAAAAAAIALgCAgAAAAAAAAMOAIAgIAAAAAAGCw7KcUcAxS0va0AUYQEAAAAAAAABhwBAEBAAAAAACAAUcQEAAAAAAAAO05zChel0pbUSYeUGrfOT2gQCCgQCCuzKFj2f2U9bn5L56t1D6Pp5SK15YppGvzBeIZVXzL47E9B+f6Ut+dcB+cUwQBAQAAAAAA0J7Lk5qOrmm7GvTb1XYuoekxSSoodTWpYMaQYRgyMkElr9oBw4JSs2WlX9rTEsrdfVoLJubWpM8NGca6Zl+lNPNDWnuGOW/2o6S+zLqFAeu3t/dAju057Kc08yShrGHIMPYU/GGtBzvm7CMICAAAAAAAgDYNa/LTqNa+M0NtlX9uK3drWmFJ2t/WWjStz8asWcc+U7oaMAxr0VjX7GVzUuWncsN67UCiJZfUUyvQGE4aWp8Zbi7K/rbWHMsNz9xRQo4ApaXw3Zpkl1HDmv080dU3P+8IAgIAAAAAAKBtw7+fVvTJtgqSfinnlPjEDK9VfipLuaTGq+m540rmpPJPFdlpw3ZK7pff+mxgbFFGJqG1WUcK737zbJWfylI0qCu+pa2o/IMUDTrmejeoaMff+vz7Xb8LAAAAAAAAgHPk8qSmo0lt709LTxKaTpofD78flKLT2lufVVO7vf2UkrmEssai1WowpUDOZxtjizKMRUlSJRvX+GxK0/aycmwvV9YvUvP2anMp+JGUKzvmelVWTtKdDr7yIKAlIAAAAAAAADpgpQTPzmjN2RJvbFoJRxqvPWhHrRVfWeVDSaoo8413v3yVbLxuMBAzuOjS4m9sui79t5J9VJcebAt/kpCePKoOGlL47mL2CUhLQAAAAAAAAHRk+PfTiionfTrpaIUX1uLLtOJXAwpYn0Qf7GlxTJI+Uzo6ruTVgJKKKp1JK5rbVvlQda37JGl4Zl3ZckDjgaS9FqVfLrq09mvcnjlf4/o0tqi9B3GNXw0oKSl6K3Eh04HfOj4+Pu53IQAAAAAAAHCeFJQKPFLwZW2wD5xdxWKRloAAAAAAAADo0P621qLT2iMAeG7QJyAAAAAAAADaVkgHFJgtK51yGQAEZxbpwAAAAAAAAMAAKxaLtAQEAAAAAAAABh1BQAAAAAAAAGDA9T0IWEgHFAikVOh3QQDgzCooFQgotd+j1e+nFAgErH9xZQ47K1fA8S+erfSokABwhhxmFO/ofgk47KcUiGfEE7NbFWXibdQ53vh12ma5cLa0e5688fOpx/X/c6yQDiiQdo8g+U1rsp86WSzqMKO4813IdbvmfaH+ONa/Q/neM5zbaHhuVLJxx3tY+9+jj0FA84vPPOlfCSBxcwEuuMOM4rNlpV8aMgxDew+k5NU2HyKHZZWVUNYwlzUMQ+szdAsMYNBVlFlMKtfvYuB82k8pMLvW71IAwDlyFmMWBaWuJhXM2O9BWSWezDQE9CrKxMeVrKswVJSJz6j8YM9c7mVaujvu8d3M+oYe7Mkw9pRWUl/a699PafxusPoelr21ppk2f1zqTxDwMKN4YEZriioa7UsJAACSdHlW68a6Zi+bfw7/flpRlVVu51fOV2XlokFd6WkBAeCM2X+qpKKiCotO2SNpJm5x9pzMsGbX+eERp6ShLozzLZw0ZCTDb2JLWjQMLY7V/p6+JeXKv5h/HmYUD4wr+VFCibrlGu5flyc1HZXKP7mE7w53tZ2Lavr3w+ZynyeU+3bXDPSNLcowFmV/0/AnCSlX1i9tlLx/LQGjae0ZX2u6bwW4QJqaLtuRdDMKvSZpbfasRdYvCjttIFNrEhzPqOLa7Nec17+5MfrN7OLA/JdK15qYF9IBxdMp87jax7QuDbehKbhzWnq7fiN1Tc+d1/bJz5HKP7eVi05rso2KUOWnsvRRUFTBAVwcBaVmpWyKGiy68ElWhrGuz4L9LkiveNRD7HeRbMoj/a0+Nc4vbc6c1pB2205KnpX2l0p71Ls861YtyldXZ3+qsnMpx7ZI/+5Cw3Gt7nfrWGYcqZCex6TxWLpNa3xX7vX55DfNs/5/xt8Dm7o4KCjl+G51aauO+RpTdyvZuMu14hWzKDv2SW1btXVaabjpVN0+q3tX++7U94RDUHdeGjKSLeoLdYG+Bq/KyimooPO9zCPQV/huTbo1rXbCn/0JAl6e1fr6LC+OfTes2fWsEpISGWcUG29a7m5Z03Yz4lxS44vS11bz4Gguqaf7UiX7pZIfZa3mxntK/zBD4Pas2U9p5omdHrun4A/16T65J9Idw5CxPqthFZRypOEamYRyd59aabgFpWbXlLCal+8Fy6qtqaHpeSZYTd890TliVUjG7+aU+Ly9+/Mv5Zz0ZIYKLoALo5J9pPKDz9qqZAONwmODfeb410NySn4b1F5T+ltzalx51n6h95tW3aoyi4560cu0ok8eefTbtqZycM9R7/rSms+7btWyfNVUPUPG59Kanfa3n9LMD2nz+xqGsh850vjQhubjWp51dlezpmT5TvVYrlWPid+x9Jvmvd3TPZ9aTPOo/5/598CxaSVy29q199P+ttbsRgV1aatmSut4R0FMj5jFk20pZafC5pRcdH8PWfvBuu8kwy3f1U7kMKNHT6TEJ9Z9/nJYYd9GFVZg92pSuVt3vFuiOrOu3g02ZyFYgeOZJ1Gl/9jeM6bvA4MAkKLVF4orCkal6KeTZhDmclB1PxZXH0JmM2ICt2dL/S8wZpPtOnW/zoS16Eg9qPzk+O14f1trSmjaOr7DM3dqzcj3t7UWTesz+9iPfaZ0dE3bdkWg23Pk8qzWq5WsdloGV1T+QdItR4Wk44c6AJwjhxl9+e20viYFEfDmUw+p/sh4eVZ3bklr3xWsVjAJ3ammxs3qzq2ctv9ZaW4h45q22bCdV2Wf/jod23G+TPvVrTop39hnSjvf0K0f8iUzRZH05c6tfWMFdi7Pat2R+ig5Ah5jnykdtY6J37FsqF83plOaenw+dVC+uvq/dMbfA8Oatq8Lme9E9vus6/vRk+2TDwzrCJxdCXp3sVB9r/Yqy6kwg7u5W9kOjot5HO2gbtetO8cWHQHl9gau+V13WwLwpg3PrGtPcY1fDSgpSYoq/ZL+K84OMygW/bTdHvLqO4qNOjpIrfxUlqLTjr72zOBw2Z6WW9N4IFm3tuinldM5Ry7P6s6tpGa+K2jRt8WC+eCadf79eULJ2W0VkmFayQAYOIW/JBX83CCTBfDgWQ+x/h98tzbvFbti86qsnNaUCzS0yLn1i/S+mQp3p0U9ppB2DDYZ7by/Tr+6ldRJ+YYV/Mj679iijIwUmA1UW3ORedWJYc2u70nx8dpxiaa1V80mdKZI1va737GsqLF+7a6X51NFnZSvVv8/D++B4U8Syn2zq8rMpMo/RDX9x2F1/n7USy5leTeoaF0SfzcKSgVmtHYr22VfhC3eoaz032GpGpS+47aasc+Ujo5r+58Vzbb4wYEgIHCODM+sy5gx/19IBzSzmNEkqfVnhFkBMTuDbeOI7D9VMpdQ1v4Fcj+lgBUQHH4/WH/D1y8q5yR9bk2LTjsqQQ2lOPE5csKHNQOFABhIBW0/kdaeBOQMBeSuBlTmxR6ocq2HpCQpp/IrSVbQ4pey9Sr7blBRJXSnqUWWpMOyotpW+VDeaXWHGT164giIHGYUv7rtMbNHmf3qVoedlM/KkrDTeKyWZpLZ19n4bErTbuuBB+cPzmag5cvspNbfl2QNYte4332P5X5j/dpFr8+n/U7KV6v/S+fgPXBsWoncI+3uS9ua1teXpY7fj3rKpSx+QbW2mOdl+cGejBO09G1uAGJxC1J6vmuZ50vw89blIB34IrgcVFC15rlmU2OcN40dp14JRhmU4YwJf+Js3l5R5ptWV5o9Cm/DvGPTSmhNj7Iu1+zYtBKO9BK7L7/UfpfnSGNnyPtPlfTqnLaOPcCQ4+/Ztbom9wAwOMxRAA3D0U+Uokq/JAAI2FrVQ9a+qw0UUu076/KkpqOOOo9Vv4hnK9Y0xztMU93DZgUYZbbY9U7f9OBTt2qnfMm/2N9rV9vWxhsHODADQ/xQ2r7GY222igu+b59NzndbR93V71ha9evtumlxZf7TuO0enk9tlM+t/n8+3gPNlODkbFI5R9lc34+slNwrwWjdtN1vO97bnZXwk4QjrdpKD+6aNWDJrWyHqf4NAxupoKd3c+7vUHX3H3PfVefbrw1AKZl9Ftelu/ugJeCFENZn2brGzwAAB69JREFUD6IavzuuwF1Jt9JKW02L7aGsZ2YDKj/Yo6+KMyyc3FM6Pq5AwP4koazBb4lnytiisrcCmgmsSYoq/SAhz5qD1WQ7eTWgpKJKZ9KK5uxfk8NafJlW/Kp1zUYTSlRzEexpAdmnQvTBnvkSOtbFOXJ5VuuZsgLV9AIzXaV1ekFYi0bWHC3P/uhW9kS/ggEAgPPLs656WJYUVUKPFLDSHqp1F6vT/3LAqvNIdfWJxmnRB3taH5My9ibsbkystNtEJqvEkxkziONIP25Rcu+6VVvlm1Hgifl9E7dq6ZvZcsCR9hlV+uXiGQvanGXNx0S3sjLGJO1LUkLBcu1cq9Vd/Y5l87RExtDs/8qo2tav5+dTO9Oa6//n5T3QDLKt1QbHkKSxRe09iGvcLnw0rT0rbXZ45o4Sd2fq352+dV1zXcyi65Z7dlms957orUTH6d5VdtA/Z1//lrq0dTf+95RKNq7x8h0rtXhYs6m0tqvnRFp79rtW43617jHtnBVvHR8fH3f0ZQEA7dlPKfBNsMWDAAAAYIBZKZXTZ6wPM5xT+ykFZlXrUgdnx2FG8atl9/R5nAnFYpF0YAA4LZVs3NFU32rufuaa6gMAAADA6ar8c1u56ui7OKtIBwaAUzI8c0eJgKNJuKO5e98cZhS/6t2fiedIdd0uBwAAAOACqSgTH7cGPSQEeNaRDgwAAAAAAAAMMNKBAQAAAAAAgAuAICAAAAAAAAAGy35KgUBKhdZzXhgEAQEAAAAAAIABRxAQAAAAAAAAGHAEAQEAAAAAANAnFWXiAQUCAQUCcaXScQXiGVWsz1PplDktbSb2FtL2vOb8mcPampzTUt81bCUbry0Xz6jyBr/hWUEQEAAAAAAAAH1RyX6ppNLaMwwZxh3pSa5u+toPQXNaMiztpzTzgz2voeytnJJ/sXr9209p5klCWcOQYewp+MNabSX7KY3fDVrTDGU/Smo8ffF6CyQICAAAAAAAgD6oaPfbnKKfTmpYkhTWZw+idXPUpkkaW5SxPmv9XVH5h9p8he/WpFvTCkuShjX7eaJuWvTBZ9Y0KfzHtKJPti/coCG/63cBAAAAAAAAcBH9onJOCn4+3HpWSTrMKH41KbOtYFTRarzQDAhGP71Sm/fdoKIqV6flnowrcNe5sqimD6Xw5ZN/i/OCICAAAAAAAAD64IqCUWn7p4o01joQWPhLUrlbWTM1WGYfgGZAcFjBj6Rc+RfJbjf4qqycpDvWtOine1qfaTPYOKBIBwYAAAAAAEAfDGvy06hy3+5aA3UU9PRuzn+RH8rmvIcZPXpS+zj8SUJ68qg6UEjhu7W6abm7T6vpv+YgIakLlw5MEBAAAAAAAAB9MTzztdJKajwQUCCwrWBDn4BO4T+mFc1Z8y5Kdx5Ea0HBsUXtPZCSV80RgB8poeqaxha196CsGWt04PG7UvrlYrWPwIvirePj4+N+FwIAAAAAAACoZOMaL9+ppvzidBSLRVoCAgAAAAAAoD8K6YDi2Yr9l57ezSkavOK7DLrDwCAAAAAAAADoi/Af09JVx8i9t7IyLvgAHr1COjAAAAAAAAAwwEgHBgAAAAAAAC4AgoAAAAAAAADAgCMICAAAAAAAgLYV0gEF0oV+FwMdIggIAAAAAAAADDiCgAAAAAAAAMCAIwgIAAAAAAAAV4V0QIGA9c81BbiiTNwxTyCl6lz7KcfncWUOrc8PM4oHasuk9h3zx1NKxZ3zF5Rym1etpqERQUAAAAAAAAA0qWTjmvkhrT3DkGHsKf3DjOLZSsM8Xyr5UVaGPU90TY+yFUkFpWbLSr80zGmZoJKLGVVUUWYxqWDG+vxlWuVZR+AwtyZ9bsgw1jV7uaJMfEblB3vWOhJam7WDg37T4IYgIAAAAAAAABpUtPttTtFPJzUsSRrW7Lqh9ZnhurmGZ9ZlJMPWX7+onHNOzSn5Fyu8N7YoY31W9tJr32RUkaTLs1o3FhWuLpPQ9Jj138Ndbeeimv69tdTYZ0pHc9r+Z8V/GlwRBAQAAAAAAEADM6AXfH/Yf7a6lN9HKkftCWEtGlklnsw0pBMPa3Z9T2klNW5/HrcCgo1elZVTUMHLHU6DK4KAAAAAAAAAaHBFwahU/smvZV1FmW/WFLVTco2vNV03PaxFo5b2G30yY/XbZ7YqNJfJKpFL6susy3beDSqqsspuKb5+0+CKICAAAAAAAAAaDGvy06hy3+5WW+kV0u6Dg+TKv5j/2X+qpJ0OfJhR3DkYyOWggooq+K45mEdtEA8z2Oja4vDypKadKb77T5W0U4D9psHV7/pdAAAAAAAAAJw9wzPrypYDGg8kzQ+iae2th/VLujqHZj9PKDk7o8ATSbeyyt5a00z5F2lmVuuZsgJXA7KWVvTBnhYvD0sv04pfDShgr+ZWVsaYpKbRfYc1u55VOTCuwF3zk0TG0OzlVtMqysTHVf7c0OKYzJTlb4LaW5/VcOO0C+St4+Pj434XAgAAAAAAAEBvFItF0oEBAAAAAACAQUcQEAAAAAAAABhwBAEBAAAAAACAAUcQEAAAAAAAABhwBAEBAAAAAACAAUcQEAAAAAAAABhwBAEBAAAAAACAAUcQEAAAAAAAABhwBAEBAAAAAACAAff/A331Vr4APRP2AAAAAElFTkSuQmCC)"
      ],
      "metadata": {
        "id": "NaXVu_GfyCeK"
      }
    },
    {
      "cell_type": "code",
      "execution_count": null,
      "metadata": {
        "id": "ssKyRcIFkReF"
      },
      "outputs": [],
      "source": [
        "# performing train test split on the dataset\n",
        "Y = df['project_is_approved']\n",
        "X = df.drop('project_is_approved', axis = 1)"
      ]
    },
    {
      "cell_type": "code",
      "source": [
        "# Further splitting into test and cv\n",
        "X_train, X_test, y_train, y_test = train_test_split(X, Y, stratify = Y, random_state = 42, test_size = 0.2)\n",
        "X_train, X_cv, y_train, y_cv = train_test_split(X_train, y_train, stratify = y_train, random_state = 42, test_size = 0.2)\n",
        "print(df.shape)\n",
        "print(X_train.shape, y_train.shape, X_test.shape, y_test.shape)"
      ],
      "metadata": {
        "colab": {
          "base_uri": "https://localhost:8080/"
        },
        "outputId": "157f127e-6ca8-4b74-a687-2e5510e3bfff",
        "id": "T5nZ33H7kReG"
      },
      "execution_count": null,
      "outputs": [
        {
          "output_type": "stream",
          "name": "stdout",
          "text": [
            "(109248, 9)\n",
            "(69918, 8) (69918,) (21850, 8) (21850,)\n"
          ]
        }
      ]
    },
    {
      "cell_type": "code",
      "source": [
        "# Here we are doing padding in order to maintain the same shape of essay features, bcz some essays contains less words as compaered to other\n",
        "from keras.preprocessing.text import Tokenizer\n",
        "from keras.preprocessing.sequence import pad_sequences\n",
        "\n",
        "tokenizer = Tokenizer(num_words=5000)\n",
        "X_train_essays = X_train['essay'].values\n",
        "\n",
        "tokenizer.fit_on_texts(X_train_essays)\n",
        "\n",
        "train_sequences = tokenizer.texts_to_sequences(X_train_essays)\n",
        "cv_sequences = tokenizer.texts_to_sequences(X_cv['essay'].values)\n",
        "test_sequences = tokenizer.texts_to_sequences(X_test['essay'].values)\n",
        "\n",
        "\n",
        "MAX_SEQUENCE_LENGTH = np.max([len(essay) for essay in train_sequences])\n",
        "\n",
        "X_padded_essays_train = pad_sequences(train_sequences, maxlen=MAX_SEQUENCE_LENGTH)\n",
        "X_padded_essays_cv = pad_sequences(cv_sequences, maxlen=MAX_SEQUENCE_LENGTH)\n",
        "X_padded_essays_test = pad_sequences(test_sequences, maxlen=MAX_SEQUENCE_LENGTH)\n",
        "\n",
        "# https://www.kdnuggets.com/2020/03/tensorflow-keras-tokenization-text-data-prep.html"
      ],
      "metadata": {
        "id": "0ieJepxca4DW"
      },
      "execution_count": null,
      "outputs": []
    },
    {
      "cell_type": "code",
      "source": [
        "X_padded_essays_train.shape"
      ],
      "metadata": {
        "colab": {
          "base_uri": "https://localhost:8080/"
        },
        "id": "KDzLRMtOmlQR",
        "outputId": "7fa53e6b-321c-40c8-9b90-e1a03948f0e8"
      },
      "execution_count": null,
      "outputs": [
        {
          "output_type": "execute_result",
          "data": {
            "text/plain": [
              "(69918, 320)"
            ]
          },
          "metadata": {},
          "execution_count": 58
        }
      ]
    },
    {
      "cell_type": "code",
      "execution_count": null,
      "metadata": {
        "id": "1t3CemDMkReG"
      },
      "outputs": [],
      "source": [
        "# Pre-Trained GloVe Embedding\n",
        "import pickle\n",
        "with open('/content/drive/MyDrive/Colab Notebooks/glove_vectors', 'rb') as f:\n",
        "    model = pickle.load(f)\n",
        "    glove_words = set(model.keys())\n"
      ]
    },
    {
      "cell_type": "code",
      "source": [
        "\n",
        "from tqdm import tqdm_notebook\n",
        "GLOVE_VECTOR_DIMENSION = 300\n",
        "\n",
        "word_index = tokenizer.word_index\n",
        "\n",
        "embedding_matrix = np.zeros((len(word_index) + 1, GLOVE_VECTOR_DIMENSION))\n",
        "for word, i in tqdm_notebook(word_index.items()):\n",
        "    embedding_vector = model.get(word)\n",
        "    if embedding_vector is not None:\n",
        "        # words not found in embedding index will be all-zeros.\n",
        "        embedding_matrix[i] = embedding_vector\n",
        "\n",
        "## Word embeddings provide a dense representation of words and their relative meanings. \n",
        "# They are an improvement over sparse representations used in simpler bag of word model representations."
      ],
      "metadata": {
        "colab": {
          "base_uri": "https://localhost:8080/",
          "height": 104,
          "referenced_widgets": [
            "e37ab60ae0314c14999e8c539ca63732",
            "0784fef29e7d4ab38ccf3a12417b99cd",
            "4ea32d86daea4e92831c88a2a5cab7e1",
            "54869f43ec0149f0b212f329e75f0388",
            "77ddaeeec63a408694b9dd35d4f184b0",
            "bc245c12f5c149f0991ff3a708b64f16",
            "f3b6124a94d14c8b92df1a71bd3827e5",
            "1636aa82c5c24204a61182a2108cd7aa",
            "8f4a301aa2394dcca49a4e5f8e4bf53b",
            "b7de2ab290304b528cbbf85d12439842",
            "c0593f38abb84165a55283e0d99119b6"
          ]
        },
        "outputId": "87b10ede-4d1d-4a9d-fb04-8056806202fe",
        "id": "XsVkw4vma4DX"
      },
      "execution_count": null,
      "outputs": [
        {
          "output_type": "stream",
          "name": "stderr",
          "text": [
            "/usr/local/lib/python3.7/dist-packages/ipykernel_launcher.py:8: TqdmDeprecationWarning: This function will be removed in tqdm==5.0.0\n",
            "Please use `tqdm.notebook.tqdm` instead of `tqdm.tqdm_notebook`\n",
            "  \n"
          ]
        },
        {
          "output_type": "display_data",
          "data": {
            "application/vnd.jupyter.widget-view+json": {
              "model_id": "e37ab60ae0314c14999e8c539ca63732",
              "version_minor": 0,
              "version_major": 2
            },
            "text/plain": [
              "  0%|          | 0/47379 [00:00<?, ?it/s]"
            ]
          },
          "metadata": {}
        }
      ]
    },
    {
      "cell_type": "code",
      "source": [
        "# school_state : categorical data\n",
        "\n",
        "import pandas as pd\n",
        "from sklearn.feature_extraction.text import CountVectorizer\n",
        "vectorizer = CountVectorizer()\n",
        "vectorizer.fit(X_train['school_state'].values)# Fit has to happen only on train data\n",
        "\n",
        "X_train_school_state_ohe = vectorizer.transform(X_train['school_state'].values)\n",
        "X_cv_school_state_ohe = vectorizer.transform(X_cv['school_state'].values)\n",
        "X_test_school_state_ohe = vectorizer.transform(X_test['school_state'].values)\n",
        "\n",
        "school_state_features = vectorizer.get_feature_names()\n",
        "\n",
        "print(X_train_school_state_ohe.shape, y_train.shape)\n",
        "print(X_cv_school_state_ohe.shape, y_cv.shape)\n",
        "print(X_test_school_state_ohe.shape, y_test.shape)\n",
        "print(vectorizer.get_feature_names())\n",
        "print('*'*100)"
      ],
      "metadata": {
        "colab": {
          "base_uri": "https://localhost:8080/"
        },
        "id": "VzBHQ-dKnC0Q",
        "outputId": "d8d9437b-5e7f-402e-f6f7-69cf81918ef0"
      },
      "execution_count": null,
      "outputs": [
        {
          "output_type": "stream",
          "name": "stdout",
          "text": [
            "(69918, 51) (69918,)\n",
            "(17480, 51) (17480,)\n",
            "(21850, 51) (21850,)\n",
            "['ak', 'al', 'ar', 'az', 'ca', 'co', 'ct', 'dc', 'de', 'fl', 'ga', 'hi', 'ia', 'id', 'il', 'in', 'ks', 'ky', 'la', 'ma', 'md', 'me', 'mi', 'mn', 'mo', 'ms', 'mt', 'nc', 'nd', 'ne', 'nh', 'nj', 'nm', 'nv', 'ny', 'oh', 'ok', 'or', 'pa', 'ri', 'sc', 'sd', 'tn', 'tx', 'ut', 'va', 'vt', 'wa', 'wi', 'wv', 'wy']\n",
            "****************************************************************************************************\n"
          ]
        },
        {
          "output_type": "stream",
          "name": "stderr",
          "text": [
            "/usr/local/lib/python3.7/dist-packages/sklearn/utils/deprecation.py:87: FutureWarning: Function get_feature_names is deprecated; get_feature_names is deprecated in 1.0 and will be removed in 1.2. Please use get_feature_names_out instead.\n",
            "  warnings.warn(msg, category=FutureWarning)\n"
          ]
        }
      ]
    },
    {
      "cell_type": "code",
      "source": [
        "# One hot encoding of Categorical Feature\n",
        "# clean_categories : categorical data\n",
        "vectorizer = CountVectorizer()\n",
        "vectorizer.fit(X_train['clean_categories'].values)# Fit has to happen only on train data\n",
        "\n",
        "X_train_clean_categories_ohe = vectorizer.transform(X_train['clean_categories'].values)\n",
        "X_cv_clean_categories_ohe = vectorizer.transform(X_cv['clean_categories'].values)\n",
        "X_test_clean_categories_ohe = vectorizer.transform(X_test['clean_categories'].values)\n",
        "\n",
        "clean_categories_features = vectorizer.get_feature_names()\n",
        "\n",
        "print(X_train_clean_categories_ohe.shape, y_train.shape)\n",
        "print(X_cv_clean_categories_ohe.shape, y_cv.shape)\n",
        "print(X_test_clean_categories_ohe.shape, y_test.shape)\n",
        "print(vectorizer.get_feature_names())\n",
        "print('*'*100)"
      ],
      "metadata": {
        "colab": {
          "base_uri": "https://localhost:8080/"
        },
        "id": "R8gpK49VnGEC",
        "outputId": "e184596b-dd96-42fc-dd11-990ac021a84f"
      },
      "execution_count": null,
      "outputs": [
        {
          "output_type": "stream",
          "name": "stdout",
          "text": [
            "(69918, 9) (69918,)\n",
            "(17480, 9) (17480,)\n",
            "(21850, 9) (21850,)\n",
            "['appliedlearning', 'care_hunger', 'health_sports', 'history_civics', 'literacy_language', 'math_science', 'music_arts', 'specialneeds', 'warmth']\n",
            "****************************************************************************************************\n"
          ]
        },
        {
          "output_type": "stream",
          "name": "stderr",
          "text": [
            "/usr/local/lib/python3.7/dist-packages/sklearn/utils/deprecation.py:87: FutureWarning: Function get_feature_names is deprecated; get_feature_names is deprecated in 1.0 and will be removed in 1.2. Please use get_feature_names_out instead.\n",
            "  warnings.warn(msg, category=FutureWarning)\n"
          ]
        }
      ]
    },
    {
      "cell_type": "code",
      "source": [
        "# clean_subcategories : categorical data\n",
        "vectorizer = CountVectorizer()\n",
        "vectorizer.fit(X_train['clean_subcategories'].values)# Fit has to happen only on train data\n",
        "\n",
        "X_train_clean_subcategories_ohe = vectorizer.transform(X_train['clean_subcategories'].values)\n",
        "X_cv_clean_subcategories_ohe = vectorizer.transform(X_cv['clean_subcategories'].values)\n",
        "X_test_clean_subcategories_ohe = vectorizer.transform(X_test['clean_subcategories'].values)\n",
        "\n",
        "clean_subcategories_features = vectorizer.get_feature_names()\n",
        "\n",
        "print(X_train_clean_subcategories_ohe.shape, y_train.shape)\n",
        "print(X_cv_clean_subcategories_ohe.shape, y_cv.shape)\n",
        "print(X_test_clean_subcategories_ohe.shape, y_test.shape)\n",
        "print(vectorizer.get_feature_names())\n",
        "print('*'*100)"
      ],
      "metadata": {
        "colab": {
          "base_uri": "https://localhost:8080/"
        },
        "id": "j-Nh2rIPnGBD",
        "outputId": "ca259cab-e464-49d4-df32-bb171620d849"
      },
      "execution_count": null,
      "outputs": [
        {
          "output_type": "stream",
          "name": "stdout",
          "text": [
            "(69918, 30) (69918,)\n",
            "(17480, 30) (17480,)\n",
            "(21850, 30) (21850,)\n",
            "['appliedsciences', 'care_hunger', 'charactereducation', 'civics_government', 'college_careerprep', 'communityservice', 'earlydevelopment', 'economics', 'environmentalscience', 'esl', 'extracurricular', 'financialliteracy', 'foreignlanguages', 'gym_fitness', 'health_lifescience', 'health_wellness', 'history_geography', 'literacy', 'literature_writing', 'mathematics', 'music', 'nutritioneducation', 'other', 'parentinvolvement', 'performingarts', 'socialsciences', 'specialneeds', 'teamsports', 'visualarts', 'warmth']\n",
            "****************************************************************************************************\n"
          ]
        },
        {
          "output_type": "stream",
          "name": "stderr",
          "text": [
            "/usr/local/lib/python3.7/dist-packages/sklearn/utils/deprecation.py:87: FutureWarning: Function get_feature_names is deprecated; get_feature_names is deprecated in 1.0 and will be removed in 1.2. Please use get_feature_names_out instead.\n",
            "  warnings.warn(msg, category=FutureWarning)\n"
          ]
        }
      ]
    },
    {
      "cell_type": "code",
      "source": [
        "print(X_train['project_grade_category'])\n",
        "# One hot encoding of Categorical Feature\n",
        "# project_grade_category : categorical data\n",
        "\n",
        "vectorizer = CountVectorizer()\n",
        "vectorizer.fit(X_train['project_grade_category'].values)# Fit has to happen only on train data\n",
        "\n",
        "X_train_project_grade_category_ohe = vectorizer.transform(X_train['project_grade_category'].values)\n",
        "X_cv_project_grade_category_ohe = vectorizer.transform(X_cv['project_grade_category'].values)\n",
        "X_test_project_grade_category_ohe = vectorizer.transform(X_test['project_grade_category'].values)\n",
        "\n",
        "project_grade_category_features = vectorizer.get_feature_names()\n",
        "\n",
        "print(X_train_project_grade_category_ohe.shape, y_train.shape)\n",
        "print(X_cv_project_grade_category_ohe.shape, y_cv.shape)\n",
        "print(X_test_project_grade_category_ohe.shape, y_test.shape)\n",
        "print(vectorizer.get_feature_names())\n",
        "print('*'*100)"
      ],
      "metadata": {
        "colab": {
          "base_uri": "https://localhost:8080/"
        },
        "id": "jtMrWhu2nF-L",
        "outputId": "3c46adda-855f-468c-ad4e-e495d137d066"
      },
      "execution_count": null,
      "outputs": [
        {
          "output_type": "stream",
          "name": "stdout",
          "text": [
            "16528     grades_prek_2\n",
            "99416        grades_6_8\n",
            "47276     grades_prek_2\n",
            "75882       grades_9_12\n",
            "41540        grades_3_5\n",
            "              ...      \n",
            "19040     grades_prek_2\n",
            "107689    grades_prek_2\n",
            "60207     grades_prek_2\n",
            "84364       grades_9_12\n",
            "97941     grades_prek_2\n",
            "Name: project_grade_category, Length: 69918, dtype: object\n",
            "(69918, 4) (69918,)\n",
            "(17480, 4) (17480,)\n",
            "(21850, 4) (21850,)\n",
            "['grades_3_5', 'grades_6_8', 'grades_9_12', 'grades_prek_2']\n",
            "****************************************************************************************************\n"
          ]
        },
        {
          "output_type": "stream",
          "name": "stderr",
          "text": [
            "/usr/local/lib/python3.7/dist-packages/sklearn/utils/deprecation.py:87: FutureWarning: Function get_feature_names is deprecated; get_feature_names is deprecated in 1.0 and will be removed in 1.2. Please use get_feature_names_out instead.\n",
            "  warnings.warn(msg, category=FutureWarning)\n"
          ]
        }
      ]
    },
    {
      "cell_type": "code",
      "source": [
        "# One hot encoding of Categorical Feature\n",
        "# teacher_prefix : categorical data\n",
        "\n",
        "print(X_train['teacher_prefix'])\n",
        "vectorizer = CountVectorizer()\n",
        "vectorizer.fit(X_train['teacher_prefix'].values)# Fit has to happen only on train data\n",
        "\n",
        "X_train_teacher_prefix_ohe = vectorizer.transform(X_train['teacher_prefix'].values)\n",
        "X_cv_teacher_prefix_ohe = vectorizer.transform(X_cv['teacher_prefix'].values)\n",
        "X_test_teacher_prefix_ohe = vectorizer.transform(X_test['teacher_prefix'].values)\n",
        "\n",
        "teacher_prefix_features = vectorizer.get_feature_names()\n",
        "\n",
        "print(X_train_teacher_prefix_ohe.shape, y_train.shape)\n",
        "print(X_cv_teacher_prefix_ohe.shape, y_cv.shape)\n",
        "print(X_test_teacher_prefix_ohe.shape, y_test.shape)\n",
        "print(vectorizer.get_feature_names())\n",
        "print('*'*100)"
      ],
      "metadata": {
        "colab": {
          "base_uri": "https://localhost:8080/"
        },
        "id": "p5UEoMTEnMuM",
        "outputId": "6f60873c-5c19-485d-a9bb-6bfae2de453b"
      },
      "execution_count": null,
      "outputs": [
        {
          "output_type": "stream",
          "name": "stdout",
          "text": [
            "16528      ms\n",
            "99416      mr\n",
            "47276     mrs\n",
            "75882      mr\n",
            "41540     mrs\n",
            "         ... \n",
            "19040     mrs\n",
            "107689     ms\n",
            "60207      ms\n",
            "84364      mr\n",
            "97941     mrs\n",
            "Name: teacher_prefix, Length: 69918, dtype: object\n",
            "(69918, 5) (69918,)\n",
            "(17480, 5) (17480,)\n",
            "(21850, 5) (21850,)\n",
            "['dr', 'mr', 'mrs', 'ms', 'teacher']\n",
            "****************************************************************************************************\n"
          ]
        },
        {
          "output_type": "stream",
          "name": "stderr",
          "text": [
            "/usr/local/lib/python3.7/dist-packages/sklearn/utils/deprecation.py:87: FutureWarning: Function get_feature_names is deprecated; get_feature_names is deprecated in 1.0 and will be removed in 1.2. Please use get_feature_names_out instead.\n",
            "  warnings.warn(msg, category=FutureWarning)\n"
          ]
        }
      ]
    },
    {
      "cell_type": "code",
      "execution_count": null,
      "metadata": {
        "colab": {
          "base_uri": "https://localhost:8080/"
        },
        "outputId": "0f36e5c9-b247-4cee-8f11-a30403964e28",
        "id": "0nUcYliS12xE"
      },
      "outputs": [
        {
          "output_type": "stream",
          "name": "stdout",
          "text": [
            "[[-0.40445317  4.16454846]\n",
            " [ 0.10763013  1.46474502]\n",
            " [-0.22156627 -0.15061469]\n",
            " ...\n",
            " [-0.40445317  0.73026877]\n",
            " [ 2.88751089 -0.21731132]\n",
            " [-0.36787579 -0.78659141]]\n"
          ]
        },
        {
          "output_type": "execute_result",
          "data": {
            "text/plain": [
              "(21850, 2)"
            ]
          },
          "metadata": {},
          "execution_count": 66
        }
      ],
      "source": [
        "## Preprocessing of numerical features\n",
        "\n",
        "from sklearn import preprocessing\n",
        "X_train_numeric = X_train[['teacher_number_of_previously_posted_projects', 'price']].values\n",
        "\n",
        "# standardization of dependent variables\n",
        "X_train_numeric = preprocessing.scale(X_train_numeric)\n",
        "print(X_train_numeric)\n",
        "\n",
        "X_cv_numeric = X_cv[['teacher_number_of_previously_posted_projects', 'price']].values\n",
        "X_cv_numeric = preprocessing.scale(X_cv_numeric)\n",
        "\n",
        "X_test_numeric = X_test[['teacher_number_of_previously_posted_projects', 'price']].values\n",
        "X_test_numeric = preprocessing.scale(X_test_numeric)\n",
        "X_test_numeric.shape"
      ]
    },
    {
      "cell_type": "code",
      "source": [
        "# merging the features: \n",
        "from scipy.sparse import hstack\n",
        "\n",
        "X_train_r = hstack((X_train_school_state_ohe, X_train_clean_categories_ohe, X_train_clean_subcategories_ohe, X_train_project_grade_category_ohe, X_train_teacher_prefix_ohe,X_train_numeric)).tocsr()\n",
        "X_cv_r = hstack((X_cv_school_state_ohe, X_cv_clean_categories_ohe, X_cv_clean_subcategories_ohe, X_cv_project_grade_category_ohe, X_cv_teacher_prefix_ohe,X_cv_numeric)).tocsr()\n",
        "X_test_r = hstack((X_test_school_state_ohe, X_test_clean_categories_ohe, X_test_clean_subcategories_ohe, X_test_project_grade_category_ohe, X_test_teacher_prefix_ohe,X_test_numeric)).tocsr()\n",
        "\n",
        "print(X_train_r.shape)\n",
        "print(X_cv_r.shape)\n",
        "print(X_test_r.shape)\n",
        "\n",
        "# https://stackoverflow.com/a/19710648/4084039"
      ],
      "metadata": {
        "colab": {
          "base_uri": "https://localhost:8080/"
        },
        "id": "GAlLwCSgnUiR",
        "outputId": "0215403a-c9fa-4215-f336-841da509b5b3"
      },
      "execution_count": null,
      "outputs": [
        {
          "output_type": "stream",
          "name": "stdout",
          "text": [
            "(69918, 101)\n",
            "(17480, 101)\n",
            "(21850, 101)\n"
          ]
        }
      ]
    },
    {
      "cell_type": "code",
      "source": [
        "# Deep learning models won't work with sparse features, we have to convert them to dense features before fitting in the model.\n",
        "train=X_train_r.todense()\n",
        "test = X_test_r.todense()\n",
        "cv = X_cv_r.todense()"
      ],
      "metadata": {
        "id": "HDbTwhdAoYf2"
      },
      "execution_count": null,
      "outputs": []
    },
    {
      "cell_type": "code",
      "source": [
        "X_train_r = np.resize(train,new_shape=(69918,101,1))\n",
        "X_cv_r = np.resize(cv,new_shape=(17480,101,1))\n",
        "X_test_r = np.resize(test,new_shape=(21850,101,1))"
      ],
      "metadata": {
        "id": "EziY2TkUn_h1"
      },
      "execution_count": null,
      "outputs": []
    },
    {
      "cell_type": "code",
      "execution_count": null,
      "metadata": {
        "id": "fQIUmc5fa4Da"
      },
      "outputs": [],
      "source": [
        "# ESSAYS LAYER\n",
        "from tensorflow.keras.optimizers import Adam\n",
        "from tensorflow.python.keras.callbacks import ModelCheckpoint, EarlyStopping\n",
        "from keras.layers import Input, Dense, Conv1D,BatchNormalization\n",
        "from keras.models import Model\n",
        "\n",
        "input_essays = Input(batch_shape=(None,320))\n",
        "\n",
        "# Word embeddings provide a dense representation of words and their relative meanings. /\n",
        "# They are an improvement over sparse representations used in simpler bag of word model representations.\n",
        "x_essays = Embedding(len(word_index) + 1, \n",
        "              GLOVE_VECTOR_DIMENSION, \n",
        "              weights=[embedding_matrix],\n",
        "              input_length=MAX_SEQUENCE_LENGTH,\n",
        "              trainable = False)(input_essays)\n",
        "x_essays = LSTM(10)(x_essays)\n",
        "x_essays = Flatten()(x_essays)\n",
        "#lstm_essay_model = Model(input_essays, x_essays)\n",
        "#lstm_essay_model.summary()\n",
        "\n",
        "\n",
        "Input2 = Input(shape = (101,1))\n",
        "x2 = Conv1D(filters=64,kernel_size=3,strides=1)(Input2)\n",
        "x2 = Conv1D(filters=64,kernel_size=3,strides=1)(x2)\n",
        "x2 = Flatten()(x2)\n",
        "\n",
        "#other_input_model = Model(Input2, x2)\n",
        "#other_input_model.summary()\n",
        "\n",
        "combined = concatenate([x_essays,x2])\n",
        "\n",
        "\n",
        "x_combined = Dense(512, activation='relu')(combined)\n",
        "x_combined = Dropout(0.5)(x_combined)\n",
        "\n",
        "x_combined = Dense(256, activation='relu')(x_combined)\n",
        "x_combined = Dropout(0.5)(x_combined)\n",
        "\n",
        "x_combined = BatchNormalization()(x_combined)\n",
        "\n",
        "x_combined = Dense(128, activation='relu')(x_combined)\n",
        "x_combined = Dropout(0.5)(x_combined)\n",
        "x_combined = Dense(1, activation=\"sigmoid\")(x_combined)\n",
        "\n",
        "final_model1 = Model([input_essays,Input2],x_combined)\n",
        "                     \n",
        "\n",
        "## https://machinelearningmastery.com/use-word-embedding-layers-deep-learning-keras/"
      ]
    },
    {
      "cell_type": "code",
      "source": [
        "from keras import backend as K\n",
        "def get_f1(y_true, y_pred): #taken from old keras source code\n",
        "    true_positives = K.sum(K.round(K.clip(y_true * y_pred, 0, 1)))\n",
        "    possible_positives = K.sum(K.round(K.clip(y_true, 0, 1)))\n",
        "    predicted_positives = K.sum(K.round(K.clip(y_pred, 0, 1)))\n",
        "    precision = true_positives / (predicted_positives + K.epsilon())\n",
        "    recall = true_positives / (possible_positives + K.epsilon())\n",
        "    f1_val = 2*(precision*recall)/(precision+recall+K.epsilon())\n",
        "    return f1_val"
      ],
      "metadata": {
        "id": "JKUpAPbha4Db"
      },
      "execution_count": null,
      "outputs": []
    },
    {
      "cell_type": "code",
      "source": [
        "def auc_2(y_true, y_pred):\n",
        "    return tf.compat.v1.py_func(roc_auc_score, (y_true, y_pred), tf.double)"
      ],
      "metadata": {
        "id": "MWZs1uvEUzT0"
      },
      "execution_count": null,
      "outputs": []
    },
    {
      "cell_type": "code",
      "source": [
        "#This is for tensorboard callbacks\n",
        "from keras.callbacks import TensorBoard\n",
        "import datetime\n",
        "filepath=\"model_save/weights-{epoch:02d}-{val_accuracy:.4f}.hdf5\"               \n",
        "checkpoint = ModelCheckpoint(filepath=filepath, monitor='val_loss', verbose=1, save_best_only=True,mode='auto')                                  \n",
        "                                                                   \n",
        "earlystop = EarlyStopping(monitor='val_loss', patience=4, verbose=1)    \n",
        "\n",
        "optimizer = tf.keras.optimizers.Adam(learning_rate = 0.001, beta_1=0.9, beta_2=0.999, epsilon=1e-07) \n",
        "\n",
        "#log_dir = \"logs/fit\" + datetime.datetime.now().strftime(\"%Y%m%d-%H%M%S\") \n",
        "#tensorboard_callbacks = tf.keras.callbacks.TensorBoard(log_dir = log_dir, histogram_freq = 1, write_graph = True,write_grads = True)\n",
        "callbacks_list = [checkpoint, earlystop] "
      ],
      "metadata": {
        "id": "v4N073nBa4Dc"
      },
      "execution_count": null,
      "outputs": []
    },
    {
      "cell_type": "code",
      "execution_count": null,
      "metadata": {
        "colab": {
          "base_uri": "https://localhost:8080/"
        },
        "outputId": "67a91b3c-ae43-4de8-e061-28b3439a5447",
        "id": "cRPYy7qKa4Dd"
      },
      "outputs": [
        {
          "output_type": "stream",
          "name": "stdout",
          "text": [
            "Model: \"model_1\"\n",
            "__________________________________________________________________________________________________\n",
            " Layer (type)                   Output Shape         Param #     Connected to                     \n",
            "==================================================================================================\n",
            " input_3 (InputLayer)           [(None, 320)]        0           []                               \n",
            "                                                                                                  \n",
            " input_4 (InputLayer)           [(None, 101, 1)]     0           []                               \n",
            "                                                                                                  \n",
            " embedding_1 (Embedding)        (None, 320, 300)     14214000    ['input_3[0][0]']                \n",
            "                                                                                                  \n",
            " conv1d_2 (Conv1D)              (None, 99, 64)       256         ['input_4[0][0]']                \n",
            "                                                                                                  \n",
            " lstm_1 (LSTM)                  (None, 10)           12440       ['embedding_1[0][0]']            \n",
            "                                                                                                  \n",
            " conv1d_3 (Conv1D)              (None, 97, 64)       12352       ['conv1d_2[0][0]']               \n",
            "                                                                                                  \n",
            " flatten_2 (Flatten)            (None, 10)           0           ['lstm_1[0][0]']                 \n",
            "                                                                                                  \n",
            " flatten_3 (Flatten)            (None, 6208)         0           ['conv1d_3[0][0]']               \n",
            "                                                                                                  \n",
            " concatenate_1 (Concatenate)    (None, 6218)         0           ['flatten_2[0][0]',              \n",
            "                                                                  'flatten_3[0][0]']              \n",
            "                                                                                                  \n",
            " dense_4 (Dense)                (None, 512)          3184128     ['concatenate_1[0][0]']          \n",
            "                                                                                                  \n",
            " dropout_3 (Dropout)            (None, 512)          0           ['dense_4[0][0]']                \n",
            "                                                                                                  \n",
            " dense_5 (Dense)                (None, 256)          131328      ['dropout_3[0][0]']              \n",
            "                                                                                                  \n",
            " dropout_4 (Dropout)            (None, 256)          0           ['dense_5[0][0]']                \n",
            "                                                                                                  \n",
            " batch_normalization_1 (BatchNo  (None, 256)         1024        ['dropout_4[0][0]']              \n",
            " rmalization)                                                                                     \n",
            "                                                                                                  \n",
            " dense_6 (Dense)                (None, 128)          32896       ['batch_normalization_1[0][0]']  \n",
            "                                                                                                  \n",
            " dropout_5 (Dropout)            (None, 128)          0           ['dense_6[0][0]']                \n",
            "                                                                                                  \n",
            " dense_7 (Dense)                (None, 1)            129         ['dropout_5[0][0]']              \n",
            "                                                                                                  \n",
            "==================================================================================================\n",
            "Total params: 17,588,553\n",
            "Trainable params: 3,374,041\n",
            "Non-trainable params: 14,214,512\n",
            "__________________________________________________________________________________________________\n"
          ]
        }
      ],
      "source": [
        "final_model1.compile(loss = 'binary_crossentropy', metrics = ['accuracy',auc_2], optimizer = optimizer)\n",
        "final_model1.summary()"
      ]
    },
    {
      "cell_type": "code",
      "source": [
        "#https://machinelearningmastery.com/visualize-deep-learning-neural-network-model-keras/\n",
        "\n",
        "from keras.utils.vis_utils import plot_model\n",
        "plot_model(final_model1, to_file='/content//model_3.png', show_shapes=True, show_layer_names=True)"
      ],
      "metadata": {
        "colab": {
          "base_uri": "https://localhost:8080/",
          "height": 1000
        },
        "id": "XcFYUHsZ2dhT",
        "outputId": "6554db35-e014-4f26-d47f-d4260e1e0a29"
      },
      "execution_count": null,
      "outputs": [
        {
          "output_type": "execute_result",
          "data": {
            "image/png": "[encoded data removed]",
            "text/plain": [
              "<IPython.core.display.Image object>"
            ]
          },
          "metadata": {},
          "execution_count": 125
        }
      ]
    },
    {
      "cell_type": "code",
      "source": [
        "X_padded_essays_train = np.array(X_padded_essays_train)\n",
        "print(type(X_padded_essays_train))\n",
        "X_padded_essays_cv = np.array(X_padded_essays_cv)"
      ],
      "metadata": {
        "colab": {
          "base_uri": "https://localhost:8080/"
        },
        "id": "DHdMjRkQcL59",
        "outputId": "9e733492-32c5-45fe-b8ed-f50018ceaba5"
      },
      "execution_count": null,
      "outputs": [
        {
          "output_type": "stream",
          "name": "stdout",
          "text": [
            "<class 'numpy.ndarray'>\n"
          ]
        }
      ]
    },
    {
      "cell_type": "code",
      "source": [
        "final_model1.fit([X_padded_essays_train,X_train_r], y_train,epochs = 10, validation_data=([X_padded_essays_cv, X_cv_r ],y_cv),batch_size = 128, verbose = 1)      "
      ],
      "metadata": {
        "colab": {
          "base_uri": "https://localhost:8080/"
        },
        "outputId": "78c47a05-9eb8-42eb-d2b9-ac0e1d14b723",
        "id": "mtW4D1wqa4De"
      },
      "execution_count": null,
      "outputs": [
        {
          "output_type": "stream",
          "name": "stdout",
          "text": [
            "Epoch 1/10\n",
            "547/547 [==============================] - 43s 75ms/step - loss: 0.4009 - accuracy: 0.8484 - auc_2: 0.6797 - val_loss: 0.3824 - val_accuracy: 0.8490 - val_auc_2: 0.7214\n",
            "Epoch 2/10\n",
            "547/547 [==============================] - 41s 74ms/step - loss: 0.3856 - accuracy: 0.8488 - auc_2: 0.7174 - val_loss: 0.3756 - val_accuracy: 0.8526 - val_auc_2: 0.7340\n",
            "Epoch 3/10\n",
            "547/547 [==============================] - 40s 74ms/step - loss: 0.3766 - accuracy: 0.8501 - auc_2: 0.7372 - val_loss: 0.3723 - val_accuracy: 0.8520 - val_auc_2: 0.7422\n",
            "Epoch 4/10\n",
            "547/547 [==============================] - 40s 74ms/step - loss: 0.3711 - accuracy: 0.8503 - auc_2: 0.7483 - val_loss: 0.3709 - val_accuracy: 0.8519 - val_auc_2: 0.7443\n",
            "Epoch 5/10\n",
            "547/547 [==============================] - 40s 73ms/step - loss: 0.3674 - accuracy: 0.8512 - auc_2: 0.7561 - val_loss: 0.3696 - val_accuracy: 0.8498 - val_auc_2: 0.7443\n",
            "Epoch 6/10\n",
            "547/547 [==============================] - 41s 74ms/step - loss: 0.3633 - accuracy: 0.8515 - auc_2: 0.7640 - val_loss: 0.3738 - val_accuracy: 0.8499 - val_auc_2: 0.7468\n",
            "Epoch 7/10\n",
            "547/547 [==============================] - 41s 74ms/step - loss: 0.3598 - accuracy: 0.8536 - auc_2: 0.7718 - val_loss: 0.3708 - val_accuracy: 0.8552 - val_auc_2: 0.7441\n",
            "Epoch 8/10\n",
            "547/547 [==============================] - 40s 73ms/step - loss: 0.3558 - accuracy: 0.8550 - auc_2: 0.7798 - val_loss: 0.3720 - val_accuracy: 0.8501 - val_auc_2: 0.7413\n",
            "Epoch 9/10\n",
            "547/547 [==============================] - 40s 74ms/step - loss: 0.3528 - accuracy: 0.8569 - auc_2: 0.7854 - val_loss: 0.3797 - val_accuracy: 0.8535 - val_auc_2: 0.7410\n",
            "Epoch 10/10\n",
            "547/547 [==============================] - 40s 74ms/step - loss: 0.3493 - accuracy: 0.8573 - auc_2: 0.7908 - val_loss: 0.3785 - val_accuracy: 0.8517 - val_auc_2: 0.7441\n"
          ]
        },
        {
          "output_type": "execute_result",
          "data": {
            "text/plain": [
              "<keras.callbacks.History at 0x7f4110c1ce10>"
            ]
          },
          "metadata": {},
          "execution_count": 127
        }
      ]
    },
    {
      "cell_type": "code",
      "source": [
        "#list all data in history\n",
        "print(final_model1.history.history.keys)\n",
        "\n",
        "import matplotlib.pyplot as plt \n",
        "\n",
        "# summarize history for accuracy\n",
        "plt.subplot(211)\n",
        "plt.plot(final_model1.history.history['accuracy'])\n",
        "plt.plot(final_model1.history.history['val_accuracy'])\n",
        "plt.title('final_model1 accuracy')\n",
        "plt.ylabel('accuracy')\n",
        "plt.xlabel('epoch')\n",
        "plt.legend(['train', 'test'], loc='upper right')\n",
        "#plt.show()\n",
        "\n",
        "# summarize history for loss\n",
        "plt.subplot(212)\n",
        "plt.plot(final_model1.history.history['loss'])\n",
        "plt.plot(final_model1.history.history['val_loss'])\n",
        "plt.title('final_model1 loss')\n",
        "plt.ylabel('loss')\n",
        "plt.xlabel('epoch')\n",
        "plt.legend(['train', 'test'], loc='upper left')\n",
        "plt.show()\n",
        "\n",
        "#https://stackoverflow.com/questions/51731207/python-neural-network-typeerror-history-object-is-not-subscriptable\n",
        "#https://machinelearningmastery.com/display-deep-learning-final_model1-training-history-in-keras/\n",
        "#https://machinelearningmastery.com/how-to-calculate-precision-recall-f1-and-more-for-deep-learning-final_model1s/"
      ],
      "metadata": {
        "id": "iPsnpaopa4De",
        "colab": {
          "base_uri": "https://localhost:8080/",
          "height": 313
        },
        "outputId": "e4153539-0d94-4c3e-8e83-4f418fea8f44"
      },
      "execution_count": null,
      "outputs": [
        {
          "output_type": "stream",
          "name": "stdout",
          "text": [
            "<built-in method keys of dict object at 0x7f410f157320>\n"
          ]
        },
        {
          "output_type": "display_data",
          "data": {
            "image/png": "[encoded data removed]",
            "text/plain": [
              "<Figure size 432x288 with 2 Axes>"
            ]
          },
          "metadata": {
            "needs_background": "light"
          }
        }
      ]
    },
    {
      "cell_type": "code",
      "source": [
        "# AUC plot\n",
        "plt.plot(final_model1.history.history['auc_2'])\n",
        "plt.title('AUC score')\n",
        "plt.ylabel('score')\n",
        "plt.xlabel('epoch')\n",
        "#plt.legend(['train', 'test'], loc='upper left')\n",
        "plt.show()\n"
      ],
      "metadata": {
        "id": "s6xL6VYJa4Df",
        "colab": {
          "base_uri": "https://localhost:8080/",
          "height": 294
        },
        "outputId": "9cd5e656-c081-438f-cffd-fd0ba2908b86"
      },
      "execution_count": null,
      "outputs": [
        {
          "output_type": "display_data",
          "data": {
            "image/png": "[encoded data removed]",
            "text/plain": [
              "<Figure size 432x288 with 1 Axes>"
            ]
          },
          "metadata": {
            "needs_background": "light"
          }
        }
      ]
    },
    {
      "cell_type": "code",
      "source": [
        "#http://zetcode.com/python/prettytable/\n",
        "from prettytable import PrettyTable\n",
        "\n",
        "x = PrettyTable()\n",
        "x.field_names = [\"Model\", \"AUC\"]\n",
        "x.add_row(['Model 1',0.7492])\n",
        "x.add_row(['Model 2',0.6804])\n",
        "x.add_row(['Model 3',0.7441])\n",
        "print(x)"
      ],
      "metadata": {
        "id": "hkEeijdKn5Sk",
        "colab": {
          "base_uri": "https://localhost:8080/"
        },
        "outputId": "eda3bf45-a180-4bb1-e83d-4d0e1f279984"
      },
      "execution_count": null,
      "outputs": [
        {
          "output_type": "stream",
          "name": "stdout",
          "text": [
            "+---------+--------+\n",
            "|  Model  |  AUC   |\n",
            "+---------+--------+\n",
            "| Model 1 | 0.7492 |\n",
            "| Model 2 | 0.6804 |\n",
            "| Model 3 | 0.7441 |\n",
            "+---------+--------+\n"
          ]
        }
      ]
    }
  ],
  "metadata": {
    "kernelspec": {
      "display_name": "Python 3",
      "language": "python",
      "name": "python3"
    },
    "language_info": {
      "codemirror_mode": {
        "name": "ipython",
        "version": 3
      },
      "file_extension": ".py",
      "mimetype": "text/x-python",
      "name": "python",
      "nbconvert_exporter": "python",
      "pygments_lexer": "ipython3",
      "version": "3.6.3"
    },
    "colab": {
      "provenance": [],
      "collapsed_sections": []
    },
    "widgets": {
      "application/vnd.jupyter.widget-state+json": {
        "e37ab60ae0314c14999e8c539ca63732": {
          "model_module": "@jupyter-widgets/controls",
          "model_name": "HBoxModel",
          "model_module_version": "1.5.0",
          "state": {
            "_view_name": "HBoxView",
            "_dom_classes": [],
            "_model_name": "HBoxModel",
            "_view_module": "@jupyter-widgets/controls",
            "_model_module_version": "1.5.0",
            "_view_count": null,
            "_view_module_version": "1.5.0",
            "box_style": "",
            "layout": "IPY_MODEL_0784fef29e7d4ab38ccf3a12417b99cd",
            "_model_module": "@jupyter-widgets/controls",
            "children": [
              "IPY_MODEL_4ea32d86daea4e92831c88a2a5cab7e1",
              "IPY_MODEL_54869f43ec0149f0b212f329e75f0388",
              "IPY_MODEL_77ddaeeec63a408694b9dd35d4f184b0"
            ]
          }
        },
        "0784fef29e7d4ab38ccf3a12417b99cd": {
          "model_module": "@jupyter-widgets/base",
          "model_name": "LayoutModel",
          "model_module_version": "1.2.0",
          "state": {
            "_view_name": "LayoutView",
            "grid_template_rows": null,
            "right": null,
            "justify_content": null,
            "_view_module": "@jupyter-widgets/base",
            "overflow": null,
            "_model_module_version": "1.2.0",
            "_view_count": null,
            "flex_flow": null,
            "width": null,
            "min_width": null,
            "border": null,
            "align_items": null,
            "bottom": null,
            "_model_module": "@jupyter-widgets/base",
            "top": null,
            "grid_column": null,
            "overflow_y": null,
            "overflow_x": null,
            "grid_auto_flow": null,
            "grid_area": null,
            "grid_template_columns": null,
            "flex": null,
            "_model_name": "LayoutModel",
            "justify_items": null,
            "grid_row": null,
            "max_height": null,
            "align_content": null,
            "visibility": null,
            "align_self": null,
            "height": null,
            "min_height": null,
            "padding": null,
            "grid_auto_rows": null,
            "grid_gap": null,
            "max_width": null,
            "order": null,
            "_view_module_version": "1.2.0",
            "grid_template_areas": null,
            "object_position": null,
            "object_fit": null,
            "grid_auto_columns": null,
            "margin": null,
            "display": null,
            "left": null
          }
        },
        "4ea32d86daea4e92831c88a2a5cab7e1": {
          "model_module": "@jupyter-widgets/controls",
          "model_name": "HTMLModel",
          "model_module_version": "1.5.0",
          "state": {
            "_view_name": "HTMLView",
            "style": "IPY_MODEL_bc245c12f5c149f0991ff3a708b64f16",
            "_dom_classes": [],
            "description": "",
            "_model_name": "HTMLModel",
            "placeholder": "​",
            "_view_module": "@jupyter-widgets/controls",
            "_model_module_version": "1.5.0",
            "value": "100%",
            "_view_count": null,
            "_view_module_version": "1.5.0",
            "description_tooltip": null,
            "_model_module": "@jupyter-widgets/controls",
            "layout": "IPY_MODEL_f3b6124a94d14c8b92df1a71bd3827e5"
          }
        },
        "54869f43ec0149f0b212f329e75f0388": {
          "model_module": "@jupyter-widgets/controls",
          "model_name": "FloatProgressModel",
          "model_module_version": "1.5.0",
          "state": {
            "_view_name": "ProgressView",
            "style": "IPY_MODEL_1636aa82c5c24204a61182a2108cd7aa",
            "_dom_classes": [],
            "description": "",
            "_model_name": "FloatProgressModel",
            "bar_style": "success",
            "max": 47379,
            "_view_module": "@jupyter-widgets/controls",
            "_model_module_version": "1.5.0",
            "value": 47379,
            "_view_count": null,
            "_view_module_version": "1.5.0",
            "orientation": "horizontal",
            "min": 0,
            "description_tooltip": null,
            "_model_module": "@jupyter-widgets/controls",
            "layout": "IPY_MODEL_8f4a301aa2394dcca49a4e5f8e4bf53b"
          }
        },
        "77ddaeeec63a408694b9dd35d4f184b0": {
          "model_module": "@jupyter-widgets/controls",
          "model_name": "HTMLModel",
          "model_module_version": "1.5.0",
          "state": {
            "_view_name": "HTMLView",
            "style": "IPY_MODEL_b7de2ab290304b528cbbf85d12439842",
            "_dom_classes": [],
            "description": "",
            "_model_name": "HTMLModel",
            "placeholder": "​",
            "_view_module": "@jupyter-widgets/controls",
            "_model_module_version": "1.5.0",
            "value": " 47379/47379 [00:00&lt;00:00, 204586.18it/s]",
            "_view_count": null,
            "_view_module_version": "1.5.0",
            "description_tooltip": null,
            "_model_module": "@jupyter-widgets/controls",
            "layout": "IPY_MODEL_c0593f38abb84165a55283e0d99119b6"
          }
        },
        "bc245c12f5c149f0991ff3a708b64f16": {
          "model_module": "@jupyter-widgets/controls",
          "model_name": "DescriptionStyleModel",
          "model_module_version": "1.5.0",
          "state": {
            "_view_name": "StyleView",
            "_model_name": "DescriptionStyleModel",
            "description_width": "",
            "_view_module": "@jupyter-widgets/base",
            "_model_module_version": "1.5.0",
            "_view_count": null,
            "_view_module_version": "1.2.0",
            "_model_module": "@jupyter-widgets/controls"
          }
        },
        "f3b6124a94d14c8b92df1a71bd3827e5": {
          "model_module": "@jupyter-widgets/base",
          "model_name": "LayoutModel",
          "model_module_version": "1.2.0",
          "state": {
            "_view_name": "LayoutView",
            "grid_template_rows": null,
            "right": null,
            "justify_content": null,
            "_view_module": "@jupyter-widgets/base",
            "overflow": null,
            "_model_module_version": "1.2.0",
            "_view_count": null,
            "flex_flow": null,
            "width": null,
            "min_width": null,
            "border": null,
            "align_items": null,
            "bottom": null,
            "_model_module": "@jupyter-widgets/base",
            "top": null,
            "grid_column": null,
            "overflow_y": null,
            "overflow_x": null,
            "grid_auto_flow": null,
            "grid_area": null,
            "grid_template_columns": null,
            "flex": null,
            "_model_name": "LayoutModel",
            "justify_items": null,
            "grid_row": null,
            "max_height": null,
            "align_content": null,
            "visibility": null,
            "align_self": null,
            "height": null,
            "min_height": null,
            "padding": null,
            "grid_auto_rows": null,
            "grid_gap": null,
            "max_width": null,
            "order": null,
            "_view_module_version": "1.2.0",
            "grid_template_areas": null,
            "object_position": null,
            "object_fit": null,
            "grid_auto_columns": null,
            "margin": null,
            "display": null,
            "left": null
          }
        },
        "1636aa82c5c24204a61182a2108cd7aa": {
          "model_module": "@jupyter-widgets/controls",
          "model_name": "ProgressStyleModel",
          "model_module_version": "1.5.0",
          "state": {
            "_view_name": "StyleView",
            "_model_name": "ProgressStyleModel",
            "description_width": "",
            "_view_module": "@jupyter-widgets/base",
            "_model_module_version": "1.5.0",
            "_view_count": null,
            "_view_module_version": "1.2.0",
            "bar_color": null,
            "_model_module": "@jupyter-widgets/controls"
          }
        },
        "8f4a301aa2394dcca49a4e5f8e4bf53b": {
          "model_module": "@jupyter-widgets/base",
          "model_name": "LayoutModel",
          "model_module_version": "1.2.0",
          "state": {
            "_view_name": "LayoutView",
            "grid_template_rows": null,
            "right": null,
            "justify_content": null,
            "_view_module": "@jupyter-widgets/base",
            "overflow": null,
            "_model_module_version": "1.2.0",
            "_view_count": null,
            "flex_flow": null,
            "width": null,
            "min_width": null,
            "border": null,
            "align_items": null,
            "bottom": null,
            "_model_module": "@jupyter-widgets/base",
            "top": null,
            "grid_column": null,
            "overflow_y": null,
            "overflow_x": null,
            "grid_auto_flow": null,
            "grid_area": null,
            "grid_template_columns": null,
            "flex": null,
            "_model_name": "LayoutModel",
            "justify_items": null,
            "grid_row": null,
            "max_height": null,
            "align_content": null,
            "visibility": null,
            "align_self": null,
            "height": null,
            "min_height": null,
            "padding": null,
            "grid_auto_rows": null,
            "grid_gap": null,
            "max_width": null,
            "order": null,
            "_view_module_version": "1.2.0",
            "grid_template_areas": null,
            "object_position": null,
            "object_fit": null,
            "grid_auto_columns": null,
            "margin": null,
            "display": null,
            "left": null
          }
        },
        "b7de2ab290304b528cbbf85d12439842": {
          "model_module": "@jupyter-widgets/controls",
          "model_name": "DescriptionStyleModel",
          "model_module_version": "1.5.0",
          "state": {
            "_view_name": "StyleView",
            "_model_name": "DescriptionStyleModel",
            "description_width": "",
            "_view_module": "@jupyter-widgets/base",
            "_model_module_version": "1.5.0",
            "_view_count": null,
            "_view_module_version": "1.2.0",
            "_model_module": "@jupyter-widgets/controls"
          }
        },
        "c0593f38abb84165a55283e0d99119b6": {
          "model_module": "@jupyter-widgets/base",
          "model_name": "LayoutModel",
          "model_module_version": "1.2.0",
          "state": {
            "_view_name": "LayoutView",
            "grid_template_rows": null,
            "right": null,
            "justify_content": null,
            "_view_module": "@jupyter-widgets/base",
            "overflow": null,
            "_model_module_version": "1.2.0",
            "_view_count": null,
            "flex_flow": null,
            "width": null,
            "min_width": null,
            "border": null,
            "align_items": null,
            "bottom": null,
            "_model_module": "@jupyter-widgets/base",
            "top": null,
            "grid_column": null,
            "overflow_y": null,
            "overflow_x": null,
            "grid_auto_flow": null,
            "grid_area": null,
            "grid_template_columns": null,
            "flex": null,
            "_model_name": "LayoutModel",
            "justify_items": null,
            "grid_row": null,
            "max_height": null,
            "align_content": null,
            "visibility": null,
            "align_self": null,
            "height": null,
            "min_height": null,
            "padding": null,
            "grid_auto_rows": null,
            "grid_gap": null,
            "max_width": null,
            "order": null,
            "_view_module_version": "1.2.0",
            "grid_template_areas": null,
            "object_position": null,
            "object_fit": null,
            "grid_auto_columns": null,
            "margin": null,
            "display": null,
            "left": null
          }
        }
      }
    },
    "accelerator": "GPU"
  },
  "nbformat": 4,
  "nbformat_minor": 0
}