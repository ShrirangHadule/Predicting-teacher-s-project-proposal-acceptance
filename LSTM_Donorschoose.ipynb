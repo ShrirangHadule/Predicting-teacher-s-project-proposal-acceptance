{
  "nbformat": 4,
  "nbformat_minor": 0,
  "metadata": {
    "colab": {
      "provenance": []
    },
    "kernelspec": {
      "name": "python3",
      "display_name": "Python 3"
    },
    "language_info": {
      "name": "python"
    }
  },
  "cells": [
    {
      "cell_type": "code",
      "execution_count": null,
      "metadata": {
        "colab": {
          "base_uri": "https://localhost:8080/"
        },
        "id": "00iDYiJHumty",
        "outputId": "e4b1fb2b-eb03-4609-ef1c-8b1633b54074"
      },
      "outputs": [
        {
          "output_type": "stream",
          "name": "stdout",
          "text": [
            "Access denied with the following error:\n",
            "\n",
            " \tCannot retrieve the public link of the file. You may need to change\n",
            "\tthe permission to 'Anyone with the link', or have had many accesses. \n",
            "\n",
            "You may still be able to access the file from the browser:\n",
            "\n",
            "\t https://drive.google.com/uc?id=1GpATd_pM4mcnWWIs28-s1lgqdAg2Wdv- \n",
            "\n",
            "Access denied with the following error:\n",
            "\n",
            " \tCannot retrieve the public link of the file. You may need to change\n",
            "\tthe permission to 'Anyone with the link', or have had many accesses. \n",
            "\n",
            "You may still be able to access the file from the browser:\n",
            "\n",
            "\t https://drive.google.com/uc?id=1pGd5tLwA30M7wkbJKdXHaae9tYVDICJ_ \n",
            "\n"
          ]
        }
      ],
      "source": [
        "!gdown --id 1GpATd_pM4mcnWWIs28-s1lgqdAg2Wdv-\n",
        "!gdown --id 1pGd5tLwA30M7wkbJKdXHaae9tYVDICJ_"
      ]
    },
    {
      "cell_type": "code",
      "source": [
        "from google.colab import drive\n",
        "drive.mount('/content/drive')"
      ],
      "metadata": {
        "colab": {
          "base_uri": "https://localhost:8080/"
        },
        "id": "1LZitN4fTggH",
        "outputId": "a0763c52-c169-4339-b4c6-3c2369e3a588"
      },
      "execution_count": null,
      "outputs": [
        {
          "output_type": "stream",
          "name": "stdout",
          "text": [
            "Mounted at /content/drive\n"
          ]
        }
      ]
    },
    {
      "cell_type": "code",
      "execution_count": null,
      "metadata": {
        "id": "pOZt1_pcumt8"
      },
      "outputs": [],
      "source": [
        "# import all the libraries\n",
        "#make sure that you import your libraries from tf.keras and not just keras\n",
        "import tensorflow as tf\n",
        "from tensorflow.keras.layers import Input,Dense,LSTM\n",
        "import keras\n",
        "from tensorflow.keras.layers import Input, Dense, Embedding, LSTM, concatenate, Flatten, Dropout\n",
        "from keras.utils import np_utils \n",
        "from keras.datasets import mnist \n",
        "from keras.models import Model\n",
        "from tensorflow.keras.optimizers import Adam\n",
        "\n",
        "from sklearn.model_selection import train_test_split\n",
        "from keras.preprocessing.text import text_to_word_sequence, Tokenizer, one_hot\n",
        "from keras.preprocessing.sequence import pad_sequences\n",
        "import numpy as np \n",
        "import pandas as pd"
      ]
    },
    {
      "cell_type": "code",
      "execution_count": null,
      "metadata": {
        "id": "x6SHmpWwumt8",
        "colab": {
          "base_uri": "https://localhost:8080/",
          "height": 784
        },
        "outputId": "5ecfccff-d94a-4948-b276-5a508de4c35a"
      },
      "outputs": [
        {
          "output_type": "stream",
          "name": "stdout",
          "text": [
            "<bound method NDFrame.describe of        school_state  ...   price\n",
            "0                ca  ...  725.05\n",
            "1                ut  ...  213.03\n",
            "2                ca  ...  329.00\n",
            "3                ga  ...  481.04\n",
            "4                wa  ...   17.74\n",
            "...             ...  ...     ...\n",
            "109243           hi  ...  143.36\n",
            "109244           nm  ...  268.57\n",
            "109245           il  ...  399.00\n",
            "109246           hi  ...  287.73\n",
            "109247           ca  ...    5.50\n",
            "\n",
            "[109248 rows x 9 columns]>\n",
            "**************************************************\n",
            "school_state                                    109248\n",
            "teacher_prefix                                  109248\n",
            "project_grade_category                          109248\n",
            "teacher_number_of_previously_posted_projects    109248\n",
            "project_is_approved                             109248\n",
            "clean_categories                                109248\n",
            "clean_subcategories                             109248\n",
            "essay                                           109248\n",
            "price                                           109248\n",
            "dtype: int64\n",
            "**************************************************\n"
          ]
        },
        {
          "output_type": "execute_result",
          "data": {
            "text/html": [
              "\n",
              "  <div id=\"df-dff7c629-cc77-47d7-bb82-5df0f2506497\">\n",
              "    <div class=\"colab-df-container\">\n",
              "      <div>\n",
              "<style scoped>\n",
              "    .dataframe tbody tr th:only-of-type {\n",
              "        vertical-align: middle;\n",
              "    }\n",
              "\n",
              "    .dataframe tbody tr th {\n",
              "        vertical-align: top;\n",
              "    }\n",
              "\n",
              "    .dataframe thead th {\n",
              "        text-align: right;\n",
              "    }\n",
              "</style>\n",
              "<table border=\"1\" class=\"dataframe\">\n",
              "  <thead>\n",
              "    <tr style=\"text-align: right;\">\n",
              "      <th></th>\n",
              "      <th>school_state</th>\n",
              "      <th>teacher_prefix</th>\n",
              "      <th>project_grade_category</th>\n",
              "      <th>teacher_number_of_previously_posted_projects</th>\n",
              "      <th>project_is_approved</th>\n",
              "      <th>clean_categories</th>\n",
              "      <th>clean_subcategories</th>\n",
              "      <th>essay</th>\n",
              "      <th>price</th>\n",
              "    </tr>\n",
              "  </thead>\n",
              "  <tbody>\n",
              "    <tr>\n",
              "      <th>0</th>\n",
              "      <td>ca</td>\n",
              "      <td>mrs</td>\n",
              "      <td>grades_prek_2</td>\n",
              "      <td>53</td>\n",
              "      <td>1</td>\n",
              "      <td>math_science</td>\n",
              "      <td>appliedsciences health_lifescience</td>\n",
              "      <td>i fortunate enough use fairy tale stem kits cl...</td>\n",
              "      <td>725.05</td>\n",
              "    </tr>\n",
              "    <tr>\n",
              "      <th>1</th>\n",
              "      <td>ut</td>\n",
              "      <td>ms</td>\n",
              "      <td>grades_3_5</td>\n",
              "      <td>4</td>\n",
              "      <td>1</td>\n",
              "      <td>specialneeds</td>\n",
              "      <td>specialneeds</td>\n",
              "      <td>imagine 8 9 years old you third grade classroo...</td>\n",
              "      <td>213.03</td>\n",
              "    </tr>\n",
              "  </tbody>\n",
              "</table>\n",
              "</div>\n",
              "      <button class=\"colab-df-convert\" onclick=\"convertToInteractive('df-dff7c629-cc77-47d7-bb82-5df0f2506497')\"\n",
              "              title=\"Convert this dataframe to an interactive table.\"\n",
              "              style=\"display:none;\">\n",
              "        \n",
              "  <svg xmlns=\"http://www.w3.org/2000/svg\" height=\"24px\"viewBox=\"0 0 24 24\"\n",
              "       width=\"24px\">\n",
              "    <path d=\"M0 0h24v24H0V0z\" fill=\"none\"/>\n",
              "    <path d=\"M18.56 5.44l.94 2.06.94-2.06 2.06-.94-2.06-.94-.94-2.06-.94 2.06-2.06.94zm-11 1L8.5 8.5l.94-2.06 2.06-.94-2.06-.94L8.5 2.5l-.94 2.06-2.06.94zm10 10l.94 2.06.94-2.06 2.06-.94-2.06-.94-.94-2.06-.94 2.06-2.06.94z\"/><path d=\"M17.41 7.96l-1.37-1.37c-.4-.4-.92-.59-1.43-.59-.52 0-1.04.2-1.43.59L10.3 9.45l-7.72 7.72c-.78.78-.78 2.05 0 2.83L4 21.41c.39.39.9.59 1.41.59.51 0 1.02-.2 1.41-.59l7.78-7.78 2.81-2.81c.8-.78.8-2.07 0-2.86zM5.41 20L4 18.59l7.72-7.72 1.47 1.35L5.41 20z\"/>\n",
              "  </svg>\n",
              "      </button>\n",
              "      \n",
              "  <style>\n",
              "    .colab-df-container {\n",
              "      display:flex;\n",
              "      flex-wrap:wrap;\n",
              "      gap: 12px;\n",
              "    }\n",
              "\n",
              "    .colab-df-convert {\n",
              "      background-color: #E8F0FE;\n",
              "      border: none;\n",
              "      border-radius: 50%;\n",
              "      cursor: pointer;\n",
              "      display: none;\n",
              "      fill: #1967D2;\n",
              "      height: 32px;\n",
              "      padding: 0 0 0 0;\n",
              "      width: 32px;\n",
              "    }\n",
              "\n",
              "    .colab-df-convert:hover {\n",
              "      background-color: #E2EBFA;\n",
              "      box-shadow: 0px 1px 2px rgba(60, 64, 67, 0.3), 0px 1px 3px 1px rgba(60, 64, 67, 0.15);\n",
              "      fill: #174EA6;\n",
              "    }\n",
              "\n",
              "    [theme=dark] .colab-df-convert {\n",
              "      background-color: #3B4455;\n",
              "      fill: #D2E3FC;\n",
              "    }\n",
              "\n",
              "    [theme=dark] .colab-df-convert:hover {\n",
              "      background-color: #434B5C;\n",
              "      box-shadow: 0px 1px 3px 1px rgba(0, 0, 0, 0.15);\n",
              "      filter: drop-shadow(0px 1px 2px rgba(0, 0, 0, 0.3));\n",
              "      fill: #FFFFFF;\n",
              "    }\n",
              "  </style>\n",
              "\n",
              "      <script>\n",
              "        const buttonEl =\n",
              "          document.querySelector('#df-dff7c629-cc77-47d7-bb82-5df0f2506497 button.colab-df-convert');\n",
              "        buttonEl.style.display =\n",
              "          google.colab.kernel.accessAllowed ? 'block' : 'none';\n",
              "\n",
              "        async function convertToInteractive(key) {\n",
              "          const element = document.querySelector('#df-dff7c629-cc77-47d7-bb82-5df0f2506497');\n",
              "          const dataTable =\n",
              "            await google.colab.kernel.invokeFunction('convertToInteractive',\n",
              "                                                     [key], {});\n",
              "          if (!dataTable) return;\n",
              "\n",
              "          const docLinkHtml = 'Like what you see? Visit the ' +\n",
              "            '<a target=\"_blank\" href=https://colab.research.google.com/notebooks/data_table.ipynb>data table notebook</a>'\n",
              "            + ' to learn more about interactive tables.';\n",
              "          element.innerHTML = '';\n",
              "          dataTable['output_type'] = 'display_data';\n",
              "          await google.colab.output.renderOutput(dataTable, element);\n",
              "          const docLink = document.createElement('div');\n",
              "          docLink.innerHTML = docLinkHtml;\n",
              "          element.appendChild(docLink);\n",
              "        }\n",
              "      </script>\n",
              "    </div>\n",
              "  </div>\n",
              "  "
            ],
            "text/plain": [
              "  school_state  ...   price\n",
              "0           ca  ...  725.05\n",
              "1           ut  ...  213.03\n",
              "\n",
              "[2 rows x 9 columns]"
            ]
          },
          "metadata": {},
          "execution_count": 3
        }
      ],
      "source": [
        "#read the csv file\n",
        "df = pd.read_csv('/content/drive/MyDrive/Colab Notebooks/preprocessed_data.csv')\n",
        "#print(df.shape)\n",
        "print(df.describe)\n",
        "print('*'*50)\n",
        "print(df.count(axis= 0))\n",
        "print('*'*50)\n",
        "df.head(2)"
      ]
    },
    {
      "cell_type": "code",
      "execution_count": null,
      "metadata": {
        "id": "WlR1J5CWumt9"
      },
      "outputs": [],
      "source": [
        "# perform stratified train test split on the dataset\n",
        "Y = df['project_is_approved']\n",
        "X = df.drop('project_is_approved', axis = 1)"
      ]
    },
    {
      "cell_type": "code",
      "source": [
        "X_train, X_test, y_train, y_test = train_test_split(X, Y, stratify = Y, random_state = 42, test_size = 0.2)\n",
        "X_train, X_cv, y_train, y_cv = train_test_split(X_train, y_train, stratify = y_train, random_state = 42, test_size = 0.2)\n",
        "print(df.shape)\n",
        "print(X_train.shape, y_train.shape, X_test.shape, y_test.shape)"
      ],
      "metadata": {
        "colab": {
          "base_uri": "https://localhost:8080/"
        },
        "id": "c7ZH0UA1LKTC",
        "outputId": "157f127e-6ca8-4b74-a687-2e5510e3bfff"
      },
      "execution_count": null,
      "outputs": [
        {
          "output_type": "stream",
          "name": "stdout",
          "text": [
            "(109248, 9)\n",
            "(69918, 8) (69918,) (21850, 8) (21850,)\n"
          ]
        }
      ]
    },
    {
      "cell_type": "markdown",
      "metadata": {
        "id": "1N9-Uzm4umt-"
      },
      "source": [
        "## 1.1 Text Vectorization"
      ]
    },
    {
      "cell_type": "code",
      "execution_count": null,
      "metadata": {
        "id": "-8fTnhOcumuA"
      },
      "outputs": [],
      "source": [
        "import pickle\n",
        "with open('/content/drive/MyDrive/Colab Notebooks/glove_vectors', 'rb') as f:\n",
        "    model = pickle.load(f)\n",
        "    glove_words = set(model.keys())\n"
      ]
    },
    {
      "cell_type": "code",
      "source": [
        "# Here we are doing padding in order to maintain the same shape\n",
        "from keras.preprocessing.text import Tokenizer\n",
        "from keras.preprocessing.sequence import pad_sequences\n",
        "\n",
        "tokenizer = Tokenizer(num_words=5000)\n",
        "X_train_essays = X_train['essay'].values\n",
        "\n",
        "tokenizer.fit_on_texts(X_train_essays)\n",
        "\n",
        "train_sequences = tokenizer.texts_to_sequences(X_train_essays)\n",
        "cv_sequences = tokenizer.texts_to_sequences(X_cv['essay'].values)\n",
        "test_sequences = tokenizer.texts_to_sequences(X_test['essay'].values)\n",
        "\n",
        "\n",
        "MAX_SEQUENCE_LENGTH = np.max([len(essay) for essay in train_sequences])\n",
        "\n",
        "X_padded_essays_train = pad_sequences(train_sequences, maxlen=MAX_SEQUENCE_LENGTH)\n",
        "X_padded_essays_cv = pad_sequences(cv_sequences, maxlen=MAX_SEQUENCE_LENGTH)\n",
        "X_padded_essays_test = pad_sequences(test_sequences, maxlen=MAX_SEQUENCE_LENGTH)\n",
        "\n",
        "# https://blog.keras.io/using-pre-trained-word-embeddings-in-a-keras-model.html\n",
        "#https://github.com/anirudhshenoy/LSTM-Assignment/blob/master/LSTM_assignment.ipynb"
      ],
      "metadata": {
        "id": "fpDtZa6ZPhvb"
      },
      "execution_count": null,
      "outputs": []
    },
    {
      "cell_type": "code",
      "source": [
        "# Using glove vectors to get the 300 dim representatrion\n",
        "from tqdm import tqdm_notebook\n",
        "GLOVE_VECTOR_DIMENSION = 300\n",
        "\n",
        "word_index = tokenizer.word_index\n",
        "\n",
        "embedding_matrix = np.zeros((len(word_index) + 1, GLOVE_VECTOR_DIMENSION))\n",
        "for word, i in tqdm_notebook(word_index.items()):\n",
        "    embedding_vector = model.get(word)\n",
        "    if embedding_vector is not None:\n",
        "        # words not found in embedding index will be all-zeros.\n",
        "        embedding_matrix[i] = embedding_vector\n",
        "\n",
        "    ## https://github.com/anirudhshenoy/LSTM-Assignment/blob/master/LSTM_assignment.ipynb"
      ],
      "metadata": {
        "id": "rWv3-o-fPqTR",
        "colab": {
          "base_uri": "https://localhost:8080/",
          "height": 104,
          "referenced_widgets": [
            "510051aa29ad4ed0a31171c2435f4000",
            "c4389267fbe04ee4bccb60281347cd39",
            "218f9874b9df445ab9d400a228d4eddc",
            "ee540759b02348db99702017cfcdf521",
            "bae80f2a3c344e3b986ba44e79036ae0",
            "b736caa88467492a8f288c161b3e6d43",
            "75ef2b0a283e40908364194222f921bc",
            "c24eab7cfcdb4563893fc277b949fb40",
            "cc204b409a04479e84cffd1f7de2852a",
            "312885edae9e46288e0d0599dec49b76",
            "acc7656961fd412597cbfacf4f3c8f7f"
          ]
        },
        "outputId": "df6336e2-d384-4a55-c97a-15df7fcf8e59"
      },
      "execution_count": null,
      "outputs": [
        {
          "output_type": "stream",
          "name": "stderr",
          "text": [
            "/usr/local/lib/python3.7/dist-packages/ipykernel_launcher.py:8: TqdmDeprecationWarning: This function will be removed in tqdm==5.0.0\n",
            "Please use `tqdm.notebook.tqdm` instead of `tqdm.tqdm_notebook`\n",
            "  \n"
          ]
        },
        {
          "output_type": "display_data",
          "data": {
            "application/vnd.jupyter.widget-view+json": {
              "model_id": "510051aa29ad4ed0a31171c2435f4000",
              "version_minor": 0,
              "version_major": 2
            },
            "text/plain": [
              "  0%|          | 0/47379 [00:00<?, ?it/s]"
            ]
          },
          "metadata": {}
        }
      ]
    },
    {
      "cell_type": "markdown",
      "metadata": {
        "id": "t617vZN-umuB"
      },
      "source": [
        "## 1.2 Categorical feature Vectorization"
      ]
    },
    {
      "cell_type": "code",
      "execution_count": null,
      "metadata": {
        "id": "CLCEOc6HumuD"
      },
      "outputs": [],
      "source": [
        "X_train_school_state = X_train['school_state'].values\n",
        "state_vocab = list(set(state for state in X_train_school_state ))\n",
        "vocab_size = len(state_vocab)\n",
        "\n",
        "X_state_train = [one_hot(state, vocab_size) for state in X_train_school_state]\n",
        "X_state_cv = [one_hot(state, vocab_size) for state in X_cv['school_state'].values]\n",
        "X_state_test = [one_hot(state, vocab_size) for state in X_test['school_state'].values]\n",
        "\n",
        "\n",
        "X_train_project_grade_category = X_train['project_grade_category'].values\n",
        "grade_vocab = list(set(grade for grade in X_train_project_grade_category ))\n",
        "vocab_size = len(grade_vocab)\n",
        "\n",
        "X_grade_train = [one_hot(grade, vocab_size, filters = '') for grade in X_train_project_grade_category]\n",
        "X_grade_cv = [one_hot(grade, vocab_size, filters = '') for grade in X_cv['project_grade_category'].values]\n",
        "X_grade_test = [one_hot(grade, vocab_size, filters = '') for grade in X_test['project_grade_category'].values]\n",
        "\n",
        "\n",
        "X_train_categories = X_train['clean_categories'].values\n",
        "category_vocab = list(set(category for categories in X_train_categories for category in categories.split()))\n",
        "vocab_size = len(category_vocab)\n",
        "\n",
        "X_category_train = [one_hot(category, vocab_size, filters = '') for category in X_train_categories]\n",
        "X_category_cv = [one_hot(category, vocab_size, filters = '') for category in X_cv['clean_categories'].values]\n",
        "X_category_test = [one_hot(category, vocab_size, filters = '') for category in X_test['clean_categories'].values]\n",
        "\n",
        "\n",
        "MAX_SEQUENCE_LENGTH_CATEGORY = np.max([len(essay) for essay in X_category_train])\n",
        "\n",
        "X_category_train = pad_sequences(X_category_train, maxlen=MAX_SEQUENCE_LENGTH_CATEGORY)\n",
        "X_category_cv = pad_sequences(X_category_cv, maxlen=MAX_SEQUENCE_LENGTH_CATEGORY)\n",
        "X_category_test = pad_sequences(X_category_test, maxlen=MAX_SEQUENCE_LENGTH_CATEGORY)\n",
        "\n",
        "\n",
        "X_train_sub_categories = X_train['clean_subcategories'].values\n",
        "sub_category_vocab = list(set(category for categories in X_train_sub_categories for category in categories.split()))\n",
        "vocab_size = len(sub_category_vocab)\n",
        "\n",
        "X_sub_category_train = [one_hot(category, vocab_size, filters = '') for category in X_train_sub_categories]\n",
        "X_sub_category_cv = [one_hot(category, vocab_size, filters = '') for category in X_cv['clean_subcategories'].values]\n",
        "X_sub_category_test = [one_hot(category, vocab_size, filters = '') for category in X_test['clean_subcategories'].values]\n",
        "\n",
        "\n",
        "MAX_SEQUENCE_LENGTH_SUB_CATEGORY = np.max([len(essay) for essay in X_sub_category_train])\n",
        "\n",
        "X_sub_category_train = pad_sequences(X_sub_category_train, maxlen=MAX_SEQUENCE_LENGTH_SUB_CATEGORY)\n",
        "X_sub_category_cv = pad_sequences(X_sub_category_cv, maxlen=MAX_SEQUENCE_LENGTH_SUB_CATEGORY)\n",
        "X_sub_category_test = pad_sequences(X_sub_category_test, maxlen=MAX_SEQUENCE_LENGTH_SUB_CATEGORY)\n",
        "\n",
        "\n",
        "X_train_teacher = X_train['teacher_prefix'].values\n",
        "teacher_vocab = list(set(category for categories in X_train_teacher for category in categories.split()))\n",
        "vocab_size = len(teacher_vocab)\n",
        "\n",
        "X_teacher_train = [one_hot(prefix, vocab_size, filters = '') for prefix in X_train_teacher]\n",
        "X_teacher_cv = [one_hot(prefix, vocab_size, filters = '') for prefix in X_cv['teacher_prefix'].values]\n",
        "X_teacher_test = [one_hot(prefix, vocab_size, filters = '') for prefix in X_test['teacher_prefix'].values]\n",
        "\n",
        "#https://github.com/anirudhshenoy/LSTM-Assignment/blob/master/LSTM_assignment.ipynb"
      ]
    },
    {
      "cell_type": "markdown",
      "metadata": {
        "id": "RD40aEsbumuE"
      },
      "source": [
        "## 1.3 Numerical feature Vectorization"
      ]
    },
    {
      "cell_type": "code",
      "execution_count": null,
      "metadata": {
        "id": "7CnTO0VkumuF",
        "colab": {
          "base_uri": "https://localhost:8080/"
        },
        "outputId": "adb2c06f-55a5-4942-bc02-22ef44966238"
      },
      "outputs": [
        {
          "output_type": "stream",
          "name": "stdout",
          "text": [
            "[[-0.40445317  4.16454846]\n",
            " [ 0.10763013  1.46474502]\n",
            " [-0.22156627 -0.15061469]\n",
            " ...\n",
            " [-0.40445317  0.73026877]\n",
            " [ 2.88751089 -0.21731132]\n",
            " [-0.36787579 -0.78659141]]\n"
          ]
        },
        {
          "output_type": "execute_result",
          "data": {
            "text/plain": [
              "array([[-0.39792632, -0.4507284 ],\n",
              "       [-0.39792632, -0.41932425],\n",
              "       [-0.39792632, -0.68134273],\n",
              "       ...,\n",
              "       [-0.22273823,  0.11021108],\n",
              "       [-0.32785108,  0.55991431],\n",
              "       [-0.29281346, -0.28075475]])"
            ]
          },
          "metadata": {},
          "execution_count": 37
        }
      ],
      "source": [
        "from sklearn import preprocessing\n",
        "X_train_numeric = X_train[['teacher_number_of_previously_posted_projects', 'price']].values\n",
        "# standardization of dependent variables\n",
        "X_train_numeric = preprocessing.scale(X_train_numeric)\n",
        "print(X_train_numeric)\n",
        "X_cv_numeric = X_cv[['teacher_number_of_previously_posted_projects', 'price']].values\n",
        "X_cv_numeric = preprocessing.scale(X_cv_numeric)\n",
        "X_test_numeric = X_test[['teacher_number_of_previously_posted_projects', 'price']].values\n",
        "X_test_numeric = preprocessing.scale(X_test_numeric)\n",
        "X_test_numeric"
      ]
    },
    {
      "cell_type": "markdown",
      "metadata": {
        "id": "5e-Wg61NumuF"
      },
      "source": [
        "## 1.4 Defining the model"
      ]
    },
    {
      "cell_type": "markdown",
      "metadata": {
        "id": "ntAdJxyjumuG"
      },
      "source": [
        "<img src='https://i.imgur.com/w395Yk9.png'>"
      ]
    },
    {
      "cell_type": "code",
      "execution_count": null,
      "metadata": {
        "id": "4ACZUdP9umuH"
      },
      "outputs": [],
      "source": [
        "# ESSAYS LAYER\n",
        "from tensorflow.keras.optimizers import Adam\n",
        "from tensorflow.python.keras.callbacks import ModelCheckpoint, EarlyStopping\n",
        "\n",
        "input_essays = Input(shape=(MAX_SEQUENCE_LENGTH,))\n",
        "x_essays = Embedding(len(word_index) + 1, \n",
        "              GLOVE_VECTOR_DIMENSION, \n",
        "              weights=[embedding_matrix],\n",
        "              input_length=MAX_SEQUENCE_LENGTH,\n",
        "              trainable = False)(input_essays)\n",
        "x_essays1 = LSTM(10)(x_essays)\n",
        "lstm_essay_model = Model(input_essays, x_essays1)\n",
        "\n",
        "\n",
        "EMBEDDING_DIMENSION = 50\n",
        "\n",
        "# STATES LAYER\n",
        "input_states = Input(shape=(1,))\n",
        "x_state = Embedding(len(state_vocab) + 1, EMBEDDING_DIMENSION, input_length=1)(input_states)\n",
        "x_state = Flatten()(x_state)\n",
        "state_model = Model(input_states, x_state)\n",
        "\n",
        "# GRADE LAYER\n",
        "input_grades = Input(shape=(1,))\n",
        "x_grade = Embedding(len(grade_vocab) + 1, EMBEDDING_DIMENSION, input_length=1)(input_grades)\n",
        "x_grade = Flatten()(x_grade)\n",
        "grade_model = Model(input_grades, x_grade)\n",
        "\n",
        "# CATEGORY LAYER\n",
        "input_category = Input(shape=(MAX_SEQUENCE_LENGTH_CATEGORY,))\n",
        "x_category = Embedding(len(category_vocab) + 1, EMBEDDING_DIMENSION, input_length=MAX_SEQUENCE_LENGTH_CATEGORY)(input_category)\n",
        "x_category = Flatten()(x_category)\n",
        "category_model = Model(input_category, x_category)\n",
        "\n",
        "# SUB CATEGORY LAYER\n",
        "input_sub_category = Input(shape=(MAX_SEQUENCE_LENGTH_SUB_CATEGORY,))\n",
        "x_sub_category = Embedding(len(sub_category_vocab) + 1, EMBEDDING_DIMENSION, input_length=MAX_SEQUENCE_LENGTH_SUB_CATEGORY)(input_sub_category)\n",
        "x_sub_category = Flatten()(x_sub_category)\n",
        "sub_category_model = Model(input_sub_category, x_sub_category)\n",
        "\n",
        "# TEACHER PREFIX LAYER\n",
        "input_teacher = Input(shape=(1,))\n",
        "x_teacher = Embedding(len(teacher_vocab) + 1, EMBEDDING_DIMENSION, input_length=1)(input_teacher)\n",
        "x_teacher = Flatten()(x_teacher)\n",
        "teacher_model = Model(input_teacher, x_teacher)\n",
        "\n",
        "# NUMERIC LAYER\n",
        "input_teacher = Input(shape=(2,))\n",
        "x_numeric = Dense(16, activation='relu')(input_teacher)\n",
        "numeric_model = Model(input_teacher, x_numeric)\n",
        "\n",
        "\n",
        "combined = concatenate([lstm_essay_model.output, \n",
        "                        state_model.output,\n",
        "                        grade_model.output,\n",
        "                        category_model.output,\n",
        "                        sub_category_model.output,\n",
        "                        teacher_model.output,\n",
        "                        numeric_model.output\n",
        "                       ])\n",
        "\n",
        "\n",
        "x_combined = Dense(128, activation='relu')(combined)\n",
        "x_combined = Dropout(0.5)(x_combined)\n",
        "\n",
        "x_combined = Dense(128, activation='relu')(combined)\n",
        "x_combined = Dropout(0.5)(x_combined)\n",
        "\n",
        "x_combined = Dense(128, activation='relu')(combined)\n",
        "x_combined = Dense(1, activation=\"sigmoid\")(x_combined)\n",
        "\n",
        "final_model = Model(inputs=[lstm_essay_model.input, \n",
        "                            state_model.input,\n",
        "                            grade_model.input,\n",
        "                            category_model.input,\n",
        "                            sub_category_model.input,\n",
        "                            teacher_model.input,\n",
        "                            numeric_model.input], \n",
        "                    outputs = x_combined)\n",
        "\n",
        "## https://github.com/anirudhshenoy/LSTM-Assignment/blob/master/LSTM_assignment.ipynb"
      ]
    },
    {
      "cell_type": "code",
      "source": [
        "from keras import backend as K\n",
        "def get_f1(y_true, y_pred): #taken from old keras source code\n",
        "    true_positives = K.sum(K.round(K.clip(y_true * y_pred, 0, 1)))\n",
        "    possible_positives = K.sum(K.round(K.clip(y_true, 0, 1)))\n",
        "    predicted_positives = K.sum(K.round(K.clip(y_pred, 0, 1)))\n",
        "    precision = true_positives / (predicted_positives + K.epsilon())\n",
        "    recall = true_positives / (possible_positives + K.epsilon())\n",
        "    f1_val = 2*(precision*recall)/(precision+recall+K.epsilon())\n",
        "    return f1_val"
      ],
      "metadata": {
        "id": "qOr9Mp2bIVAN"
      },
      "execution_count": null,
      "outputs": []
    },
    {
      "cell_type": "code",
      "execution_count": null,
      "metadata": {
        "id": "JKZ_tDMbumuH",
        "colab": {
          "base_uri": "https://localhost:8080/",
          "height": 110
        },
        "outputId": "f416172b-d6f2-4b23-c7f5-3511f6ae34d8"
      },
      "outputs": [
        {
          "output_type": "execute_result",
          "data": {
            "application/vnd.google.colaboratory.intrinsic+json": {
              "type": "string"
            },
            "text/plain": [
              "\"\\ndef auc_roc(y_true, x_test):\\n  y_pred = model.predict(x_test)\\n  auc = roc_auc_score(y_test, y_pred)\\n\\n  return auc\\n\\n\\n    # any tensorflow metric\\n    value, update_op = tf.metrics.auc(y_pred, y_true)\\n\\n    # find all variables created for this metric\\n    metric_vars = [i for i in tf.local_variables() if 'auc_roc' in i.name.split('/')[1]]\\n\\n    # Add metric variables to GLOBAL_VARIABLES collection.\\n    # They will be initialized for new session.\\n    for v in metric_vars:\\n        tf.add_to_collection(tf.GraphKeys.GLOBAL_VARIABLES, v)\\n\\n    # force to update metric values\\n    with tf.control_dependencies([update_op]):\\n        value = tf.identity(value)\\n        return value\\n\\n\\ny_pred = model.predict_proba(x_test)[:,1]\\nauc = roc_auc_score(y_test, y_pred)\\nprint(auc)\\n\""
            ]
          },
          "metadata": {},
          "execution_count": 40
        }
      ],
      "source": [
        "import numpy as np\n",
        "import tensorflow as tf\n",
        "from sklearn.metrics import roc_auc_score\n",
        "from sklearn.datasets import make_classification\n",
        "from keras.models import Sequential\n",
        "from keras.layers import Dense\n",
        "from keras.utils import np_utils\n",
        "from keras.callbacks import Callback, EarlyStopping\n",
        "from sklearn.datasets import make_multilabel_classification\n",
        "from sklearn.multioutput import MultiOutputClassifier\n",
        "\n",
        "\n",
        "# define roc_callback, inspired by https://github.com/keras-team/keras/issues/6050#issuecomment-329996505\n",
        "'''\n",
        "def auc_roc(y_true, x_test):\n",
        "  y_pred = model.predict(x_test)\n",
        "  auc = roc_auc_score(y_test, y_pred)\n",
        "\n",
        "  return auc\n",
        "\n",
        "\n",
        "    # any tensorflow metric\n",
        "    value, update_op = tf.metrics.auc(y_pred, y_true)\n",
        "\n",
        "    # find all variables created for this metric\n",
        "    metric_vars = [i for i in tf.local_variables() if 'auc_roc' in i.name.split('/')[1]]\n",
        "\n",
        "    # Add metric variables to GLOBAL_VARIABLES collection.\n",
        "    # They will be initialized for new session.\n",
        "    for v in metric_vars:\n",
        "        tf.add_to_collection(tf.GraphKeys.GLOBAL_VARIABLES, v)\n",
        "\n",
        "    # force to update metric values\n",
        "    with tf.control_dependencies([update_op]):\n",
        "        value = tf.identity(value)\n",
        "        return value\n",
        "\n",
        "\n",
        "y_pred = model.predict_proba(x_test)[:,1]\n",
        "auc = roc_auc_score(y_test, y_pred)\n",
        "print(auc)\n",
        "'''\n",
        "## https://stackoverflow.com/questions/41032551/how-to-compute-receiving-operating-characteristic-roc-and-auc-in-keras/46844409#46844409"
      ]
    },
    {
      "cell_type": "code",
      "source": [
        "#This is for tensorboard callbacks\n",
        "from keras.callbacks import TensorBoard\n",
        "import datetime\n",
        "filepath=\"model_save/weights-{epoch:02d}-{val_accuracy:.4f}.hdf5\"               \n",
        "checkpoint = ModelCheckpoint(filepath=filepath, monitor='val_loss', verbose=1, save_best_only=True,mode='auto')                                  \n",
        "                                                                   \n",
        "#earlystop = EarlyStopping(monitor='val_loss', patience=4, verbose=1)    \n",
        "\n",
        "#optimizer = tf.keras.optimizers.Adam(learning_rate = 0.001, beta_1=0.9, beta_2=0.999, epsilon=1e-07) \n",
        "\n",
        "#log_dir = \"logs/fit\" + datetime.datetime.now().strftime(\"%Y%m%d-%H%M%S\") \n",
        "#tensorboard_callbacks = tf.keras.callbacks.TensorBoard(log_dir = log_dir, histogram_freq = 1, write_graph = True,write_grads = True)\n",
        "#callbacks_list = [checkpoint, earlystop] "
      ],
      "metadata": {
        "id": "AwfTX-dymuxz"
      },
      "execution_count": null,
      "outputs": []
    },
    {
      "cell_type": "markdown",
      "metadata": {
        "id": "lCyrEZTvumuI"
      },
      "source": [
        "## 1.5 Compiling and fititng your model"
      ]
    },
    {
      "cell_type": "code",
      "execution_count": null,
      "metadata": {
        "id": "hQcFrpS8umuJ",
        "colab": {
          "base_uri": "https://localhost:8080/"
        },
        "outputId": "fb23e23c-77ef-4146-877d-93482cf73558"
      },
      "outputs": [
        {
          "output_type": "stream",
          "name": "stdout",
          "text": [
            "Model: \"model_7\"\n",
            "__________________________________________________________________________________________________\n",
            " Layer (type)                   Output Shape         Param #     Connected to                     \n",
            "==================================================================================================\n",
            " input_7 (InputLayer)           [(None, 320)]        0           []                               \n",
            "                                                                                                  \n",
            " input_8 (InputLayer)           [(None, 1)]          0           []                               \n",
            "                                                                                                  \n",
            " input_9 (InputLayer)           [(None, 1)]          0           []                               \n",
            "                                                                                                  \n",
            " input_10 (InputLayer)          [(None, 3)]          0           []                               \n",
            "                                                                                                  \n",
            " input_11 (InputLayer)          [(None, 3)]          0           []                               \n",
            "                                                                                                  \n",
            " input_12 (InputLayer)          [(None, 1)]          0           []                               \n",
            "                                                                                                  \n",
            " embedding_3 (Embedding)        (None, 320, 300)     14214000    ['input_7[0][0]']                \n",
            "                                                                                                  \n",
            " embedding_4 (Embedding)        (None, 1, 50)        2600        ['input_8[0][0]']                \n",
            "                                                                                                  \n",
            " embedding_5 (Embedding)        (None, 1, 50)        250         ['input_9[0][0]']                \n",
            "                                                                                                  \n",
            " embedding_6 (Embedding)        (None, 3, 50)        500         ['input_10[0][0]']               \n",
            "                                                                                                  \n",
            " embedding_7 (Embedding)        (None, 3, 50)        1550        ['input_11[0][0]']               \n",
            "                                                                                                  \n",
            " embedding_8 (Embedding)        (None, 1, 50)        300         ['input_12[0][0]']               \n",
            "                                                                                                  \n",
            " input_13 (InputLayer)          [(None, 2)]          0           []                               \n",
            "                                                                                                  \n",
            " lstm_3 (LSTM)                  (None, 10)           12440       ['embedding_3[0][0]']            \n",
            "                                                                                                  \n",
            " flatten_6 (Flatten)            (None, 50)           0           ['embedding_4[0][0]']            \n",
            "                                                                                                  \n",
            " flatten_7 (Flatten)            (None, 50)           0           ['embedding_5[0][0]']            \n",
            "                                                                                                  \n",
            " flatten_8 (Flatten)            (None, 150)          0           ['embedding_6[0][0]']            \n",
            "                                                                                                  \n",
            " flatten_9 (Flatten)            (None, 150)          0           ['embedding_7[0][0]']            \n",
            "                                                                                                  \n",
            " flatten_10 (Flatten)           (None, 50)           0           ['embedding_8[0][0]']            \n",
            "                                                                                                  \n",
            " dense_3 (Dense)                (None, 16)           48          ['input_13[0][0]']               \n",
            "                                                                                                  \n",
            " concatenate_3 (Concatenate)    (None, 476)          0           ['lstm_3[0][0]',                 \n",
            "                                                                  'flatten_6[0][0]',              \n",
            "                                                                  'flatten_7[0][0]',              \n",
            "                                                                  'flatten_8[0][0]',              \n",
            "                                                                  'flatten_9[0][0]',              \n",
            "                                                                  'flatten_10[0][0]',             \n",
            "                                                                  'dense_3[0][0]']                \n",
            "                                                                                                  \n",
            " dense_6 (Dense)                (None, 128)          61056       ['concatenate_3[0][0]']          \n",
            "                                                                                                  \n",
            " dense_7 (Dense)                (None, 1)            129         ['dense_6[0][0]']                \n",
            "                                                                                                  \n",
            "==================================================================================================\n",
            "Total params: 14,292,873\n",
            "Trainable params: 78,873\n",
            "Non-trainable params: 14,214,000\n",
            "__________________________________________________________________________________________________\n"
          ]
        }
      ],
      "source": [
        "final_model.compile(loss = 'binary_crossentropy', metrics = ['accuracy',get_f1,'AUC'], optimizer = 'adam')\n",
        "final_model.summary()"
      ]
    },
    {
      "cell_type": "code",
      "execution_count": null,
      "metadata": {
        "id": "dHLXkMWhumuJ"
      },
      "outputs": [],
      "source": [
        "test_input_length = 69918\n",
        "\n",
        "input_train = [  np.array(X_padded_essays_train)[:test_input_length], \n",
        "                 np.array(X_state_train)[:test_input_length],\n",
        "                 np.array(X_grade_train)[:test_input_length],\n",
        "                 np.array(X_category_train)[:test_input_length],\n",
        "                 np.array(X_sub_category_train)[:test_input_length],\n",
        "                 np.array(X_teacher_train)[:test_input_length],\n",
        "                 np.array(X_train_numeric)[:test_input_length],\n",
        "                ]\n",
        "\n",
        "\n",
        "input_cv = [  np.array(X_padded_essays_cv)[:test_input_length], \n",
        "                 np.array(X_state_cv)[:test_input_length],\n",
        "                 np.array(X_grade_cv)[:test_input_length],\n",
        "                 np.array(X_category_cv)[:test_input_length],\n",
        "                 np.array(X_sub_category_cv)[:test_input_length],\n",
        "                 np.array(X_teacher_cv)[:test_input_length],\n",
        "                 np.array(X_cv_numeric)[:test_input_length],\n",
        "                ]"
      ]
    },
    {
      "cell_type": "code",
      "source": [
        "final_model.fit(input_train, y_train,epochs =10, validation_data=[input_cv, y_cv],batch_size = 128, verbose = 1)\n",
        "         "
      ],
      "metadata": {
        "id": "9Tnjcxx3YZj8",
        "colab": {
          "base_uri": "https://localhost:8080/"
        },
        "outputId": "e9aa6f38-7c8f-4bc8-d6c8-f1ab09bd1c7e"
      },
      "execution_count": null,
      "outputs": [
        {
          "output_type": "stream",
          "name": "stdout",
          "text": [
            "Epoch 1/10\n",
            "547/547 [==============================] - 16s 23ms/step - loss: 0.4077 - accuracy: 0.8470 - get_f1: 0.9158 - auc: 0.6516 - val_loss: 0.3808 - val_accuracy: 0.8506 - val_get_f1: 0.9186 - val_auc: 0.7213\n",
            "Epoch 2/10\n",
            "547/547 [==============================] - 12s 22ms/step - loss: 0.3765 - accuracy: 0.8511 - get_f1: 0.9184 - auc: 0.7313 - val_loss: 0.3715 - val_accuracy: 0.8542 - val_get_f1: 0.9188 - val_auc: 0.7412\n",
            "Epoch 3/10\n",
            "547/547 [==============================] - 12s 22ms/step - loss: 0.3685 - accuracy: 0.8538 - get_f1: 0.9191 - auc: 0.7483 - val_loss: 0.3714 - val_accuracy: 0.8527 - val_get_f1: 0.9171 - val_auc: 0.7485\n",
            "Epoch 4/10\n",
            "547/547 [==============================] - 12s 22ms/step - loss: 0.3630 - accuracy: 0.8547 - get_f1: 0.9193 - auc: 0.7589 - val_loss: 0.3662 - val_accuracy: 0.8545 - val_get_f1: 0.9192 - val_auc: 0.7502\n",
            "Epoch 5/10\n",
            "547/547 [==============================] - 12s 22ms/step - loss: 0.3585 - accuracy: 0.8570 - get_f1: 0.9205 - auc: 0.7686 - val_loss: 0.3661 - val_accuracy: 0.8539 - val_get_f1: 0.9186 - val_auc: 0.7530\n",
            "Epoch 6/10\n",
            "547/547 [==============================] - 12s 22ms/step - loss: 0.3551 - accuracy: 0.8576 - get_f1: 0.9205 - auc: 0.7751 - val_loss: 0.3660 - val_accuracy: 0.8541 - val_get_f1: 0.9181 - val_auc: 0.7549\n",
            "Epoch 7/10\n",
            "547/547 [==============================] - 12s 22ms/step - loss: 0.3518 - accuracy: 0.8596 - get_f1: 0.9215 - auc: 0.7804 - val_loss: 0.3648 - val_accuracy: 0.8551 - val_get_f1: 0.9191 - val_auc: 0.7528\n",
            "Epoch 8/10\n",
            "547/547 [==============================] - 12s 22ms/step - loss: 0.3480 - accuracy: 0.8608 - get_f1: 0.9219 - auc: 0.7869 - val_loss: 0.3651 - val_accuracy: 0.8551 - val_get_f1: 0.9196 - val_auc: 0.7538\n",
            "Epoch 9/10\n",
            "547/547 [==============================] - 12s 22ms/step - loss: 0.3445 - accuracy: 0.8627 - get_f1: 0.9230 - auc: 0.7922 - val_loss: 0.3699 - val_accuracy: 0.8555 - val_get_f1: 0.9198 - val_auc: 0.7491\n",
            "Epoch 10/10\n",
            "547/547 [==============================] - 12s 22ms/step - loss: 0.3413 - accuracy: 0.8631 - get_f1: 0.9230 - auc: 0.7975 - val_loss: 0.3704 - val_accuracy: 0.8538 - val_get_f1: 0.9181 - val_auc: 0.7492\n"
          ]
        },
        {
          "output_type": "execute_result",
          "data": {
            "text/plain": [
              "<keras.callbacks.History at 0x7f9058628c10>"
            ]
          },
          "metadata": {},
          "execution_count": 176
        }
      ]
    },
    {
      "cell_type": "code",
      "source": [
        "#list all data in history\n",
        "print(final_model.history.history.keys)\n",
        "\n",
        "import matplotlib.pyplot as plt \n",
        "\n",
        "# summarize history for accuracy\n",
        "plt.subplot(211)\n",
        "plt.plot(final_model.history.history['accuracy'])\n",
        "plt.plot(final_model.history.history['val_accuracy'])\n",
        "plt.title('final_model accuracy')\n",
        "plt.ylabel('accuracy')\n",
        "plt.xlabel('epoch')\n",
        "plt.legend(['train', 'test'], loc='upper right')\n",
        "#plt.show()\n",
        "\n",
        "# summarize history for loss\n",
        "plt.subplot(212)\n",
        "plt.plot(final_model.history.history['loss'])\n",
        "plt.plot(final_model.history.history['val_loss'])\n",
        "plt.title('final_model loss')\n",
        "plt.ylabel('loss')\n",
        "plt.xlabel('epoch')\n",
        "plt.legend(['train', 'test'], loc='upper left')\n",
        "plt.show()\n",
        "\n",
        "#https://stackoverflow.com/questions/51731207/python-neural-network-typeerror-history-object-is-not-subscriptable\n",
        "#https://machinelearningmastery.com/display-deep-learning-final_model-training-history-in-keras/\n",
        "#https://machinelearningmastery.com/how-to-calculate-precision-recall-f1-and-more-for-deep-learning-final_models/"
      ],
      "metadata": {
        "colab": {
          "base_uri": "https://localhost:8080/",
          "height": 313
        },
        "id": "y6-2GFK8Bgwy",
        "outputId": "091068ce-3ffa-4ee7-9a04-604e7f474307"
      },
      "execution_count": null,
      "outputs": [
        {
          "output_type": "stream",
          "name": "stdout",
          "text": [
            "<built-in method keys of dict object at 0x7f9055a1c0f0>\n"
          ]
        },
        {
          "output_type": "display_data",
          "data": {
            "image/png": "[encoded data removed]",
            "text/plain": [
              "<Figure size 432x288 with 2 Axes>"
            ]
          },
          "metadata": {
            "needs_background": "light"
          }
        }
      ]
    },
    {
      "cell_type": "code",
      "source": [
        "# AUC plot\n",
        "plt.plot(final_model.history.history['auc'])\n",
        "plt.title('AUC score')\n",
        "plt.ylabel('score')\n",
        "plt.xlabel('epoch')\n",
        "#plt.legend(['train', 'test'], loc='upper left')\n",
        "plt.show()\n"
      ],
      "metadata": {
        "id": "Z-IEBb-DYCTJ",
        "colab": {
          "base_uri": "https://localhost:8080/",
          "height": 294
        },
        "outputId": "c4eff092-8351-49d0-800d-8b3139580998"
      },
      "execution_count": null,
      "outputs": [
        {
          "output_type": "display_data",
          "data": {
            "image/png": "[encoded data removed]",
            "text/plain": [
              "<Figure size 432x288 with 1 Axes>"
            ]
          },
          "metadata": {
            "needs_background": "light"
          }
        }
      ]
    },
    {
      "cell_type": "code",
      "source": [
        "# Please compare all your models using Prettytable library\n",
        "#http://zetcode.com/python/prettytable/\n",
        "from prettytable import PrettyTable\n",
        "x = PrettyTable()\n",
        "x.field_names = [\"Model\", \"AUC\"]\n",
        "x.add_row(['Model 1',0.7492])\n",
        "print(x)"
      ],
      "metadata": {
        "id": "hkEeijdKn5Sk",
        "colab": {
          "base_uri": "https://localhost:8080/"
        },
        "outputId": "2479ed11-08c7-4fc4-ad05-816889059d43"
      },
      "execution_count": 1,
      "outputs": [
        {
          "output_type": "stream",
          "name": "stdout",
          "text": [
            "+---------+--------+\n",
            "|  Model  |  AUC   |\n",
            "+---------+--------+\n",
            "| Model 1 | 0.7492 |\n",
            "+---------+--------+\n"
          ]
        }
      ]
    }
  ]
}
